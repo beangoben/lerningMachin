{
 "metadata": {
  "name": "",
  "signature": "sha256:aed323ff5ea2caf01f6761b203086ffe51e641cabcc4efaf5abcd144b55b42dc"
 },
 "nbformat": 3,
 "nbformat_minor": 0,
 "worksheets": [
  {
   "cells": [
    {
     "cell_type": "heading",
     "level": 1,
     "metadata": {},
     "source": [
      "Tipos b\u00e1sicos en Python"
     ]
    },
    {
     "cell_type": "heading",
     "level": 3,
     "metadata": {},
     "source": [
      "N\u00fameros"
     ]
    },
    {
     "cell_type": "heading",
     "level": 3,
     "metadata": {},
     "source": [
      "Strings"
     ]
    },
    {
     "cell_type": "heading",
     "level": 3,
     "metadata": {},
     "source": [
      "Booleanos"
     ]
    },
    {
     "cell_type": "code",
     "collapsed": false,
     "input": [
      "a = 8\n",
      "b = 3.5\n",
      "print(type(a))\n",
      "print(type(b))"
     ],
     "language": "python",
     "metadata": {},
     "outputs": [
      {
       "output_type": "stream",
       "stream": "stdout",
       "text": [
        "<class 'int'>\n",
        "<class 'float'>\n"
       ]
      }
     ],
     "prompt_number": 9
    },
    {
     "cell_type": "code",
     "collapsed": false,
     "input": [
      "n = 3\n",
      "m = 2\n",
      "suma = n + m\n",
      "resta = n - m\n",
      "mult = n * m\n",
      "exp = n ** m\n",
      "div = n / m\n",
      "print(exp)"
     ],
     "language": "python",
     "metadata": {},
     "outputs": [
      {
       "output_type": "stream",
       "stream": "stdout",
       "text": [
        "9\n"
       ]
      }
     ],
     "prompt_number": 10
    },
    {
     "cell_type": "code",
     "collapsed": false,
     "input": [
      "j = 5\n",
      "k = 2\n",
      "divEnt = j // k\n",
      "print(divEnt)"
     ],
     "language": "python",
     "metadata": {},
     "outputs": [
      {
       "output_type": "stream",
       "stream": "stdout",
       "text": [
        "2\n"
       ]
      }
     ],
     "prompt_number": 11
    },
    {
     "cell_type": "code",
     "collapsed": false,
     "input": [
      "p = 3\n",
      "q = 10\n",
      "modulo = q % p\n",
      "print(modulo)"
     ],
     "language": "python",
     "metadata": {},
     "outputs": [
      {
       "output_type": "stream",
       "stream": "stdout",
       "text": [
        "1\n"
       ]
      }
     ],
     "prompt_number": 12
    },
    {
     "cell_type": "code",
     "collapsed": false,
     "input": [
      "a = \"Hola, \"\n",
      "b = 'qu\u00e9 tal'\n",
      "ope1 = a + b\n",
      "ope2 = b * 3\n",
      "c = \"\"\"Aqu\u00ed estoy.\n",
      "Ac\u00e1 no estoy.\"\"\"\n",
      "print(ope2)"
     ],
     "language": "python",
     "metadata": {},
     "outputs": [
      {
       "output_type": "stream",
       "stream": "stdout",
       "text": [
        "qu\u00e9 talqu\u00e9 talqu\u00e9 tal\n"
       ]
      }
     ],
     "prompt_number": 14
    },
    {
     "cell_type": "code",
     "collapsed": false,
     "input": [
      "a = \"4\"\n",
      "b = 2\n",
      "c = int(a) * b\n",
      "d = a + str(b)\n",
      "e = float(a) / b\n",
      "print(d)"
     ],
     "language": "python",
     "metadata": {},
     "outputs": [
      {
       "output_type": "stream",
       "stream": "stdout",
       "text": [
        "42\n"
       ]
      }
     ],
     "prompt_number": 16
    },
    {
     "cell_type": "heading",
     "level": 6,
     "metadata": {},
     "source": [
      "== igual que"
     ]
    },
    {
     "cell_type": "heading",
     "level": 6,
     "metadata": {},
     "source": [
      "> mayor que"
     ]
    },
    {
     "cell_type": "heading",
     "level": 6,
     "metadata": {},
     "source": [
      "< menor que"
     ]
    },
    {
     "cell_type": "heading",
     "level": 6,
     "metadata": {},
     "source": [
      ">= mayor o igual que"
     ]
    },
    {
     "cell_type": "heading",
     "level": 6,
     "metadata": {},
     "source": [
      "<= menor o igual que"
     ]
    },
    {
     "cell_type": "heading",
     "level": 6,
     "metadata": {},
     "source": [
      "!= diferente de"
     ]
    },
    {
     "cell_type": "code",
     "collapsed": false,
     "input": [
      "BOLE = 8 > 9\n",
      "bole = 2 * 2 == 2 ** 2\n",
      "print(bole)"
     ],
     "language": "python",
     "metadata": {},
     "outputs": [
      {
       "output_type": "stream",
       "stream": "stdout",
       "text": [
        "True\n"
       ]
      }
     ],
     "prompt_number": 19
    },
    {
     "cell_type": "heading",
     "level": 6,
     "metadata": {},
     "source": [
      "and  \u00bfSe cumplen A y B?"
     ]
    },
    {
     "cell_type": "heading",
     "level": 6,
     "metadata": {},
     "source": [
      "or \u00bfSe cumple A o B?"
     ]
    },
    {
     "cell_type": "heading",
     "level": 6,
     "metadata": {},
     "source": [
      "not - Lo opuesto a A"
     ]
    },
    {
     "cell_type": "code",
     "collapsed": false,
     "input": [
      "a = not True\n",
      "b = True and True\n",
      "c = True and False\n",
      "d = False and False\n",
      "e = True or False\n",
      "f = False or False\n",
      "g = True or True\n",
      "print(g)"
     ],
     "language": "python",
     "metadata": {},
     "outputs": [
      {
       "output_type": "stream",
       "stream": "stdout",
       "text": [
        "True\n"
       ]
      }
     ],
     "prompt_number": 21
    },
    {
     "cell_type": "heading",
     "level": 3,
     "metadata": {},
     "source": [
      "Ejercicios"
     ]
    },
    {
     "cell_type": "code",
     "collapsed": false,
     "input": [
      "\"\"\"\u00bfQu\u00e9 valor devolver\u00edan los siguientes booleanos? La jerarqu\u00eda \n",
      "es not > or > and\"\"\"\n",
      "\n",
      "Pepe = not not False\n",
      "Ana = not False and not True\n",
      "Mary = False or True and True\n",
      "w = 1 < 1 ** 3\n",
      "t = 3 // 2 != 3 % 2\n",
      "s = \"Hola\" == \"hola\"\n",
      "r = 5 ** 2 > 3 ** 3 or True\n",
      "var = 6 / 3 >= 10 % 5 and 25 ** (1 / 2) <= 3 + 2 "
     ],
     "language": "python",
     "metadata": {},
     "outputs": []
    }
   ],
   "metadata": {}
  }
 ]
}