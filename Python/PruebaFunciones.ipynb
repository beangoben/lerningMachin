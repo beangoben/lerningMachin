{
 "metadata": {
  "name": "",
  "signature": "sha256:52d7308eced63e93725d4de72729d9e8e676299db3ad63809cf2c0d1bc0cc919"
 },
 "nbformat": 3,
 "nbformat_minor": 0,
 "worksheets": [
  {
   "cells": [
    {
     "cell_type": "heading",
     "level": 1,
     "metadata": {},
     "source": [
      "Funciones en Python"
     ]
    },
    {
     "cell_type": "heading",
     "level": 4,
     "metadata": {},
     "source": [
      "\u00bfQu\u00e9 es?"
     ]
    },
    {
     "cell_type": "heading",
     "level": 6,
     "metadata": {},
     "source": [
      "Una funci\u00f3n es un pedazo de c\u00f3digo con un nombre asociado que realiza una serie de tareas y retorna un valor. "
     ]
    },
    {
     "cell_type": "heading",
     "level": 4,
     "metadata": {},
     "source": [
      "\u00bfC\u00f3mo se declara?"
     ]
    },
    {
     "cell_type": "code",
     "collapsed": false,
     "input": [
      "def pasajes(costo, dinero):\n",
      "    \"\"\"Calcula cu\u00e1ntos pasajes te alcanzan con cierta \n",
      "    cantidad de dinero\"\"\"\n",
      "    x = dinero // costo\n",
      "    return x"
     ],
     "language": "python",
     "metadata": {},
     "outputs": [],
     "prompt_number": 4
    },
    {
     "cell_type": "heading",
     "level": 4,
     "metadata": {},
     "source": [
      "\u00bfC\u00f3mo se ejecuta?"
     ]
    },
    {
     "cell_type": "code",
     "collapsed": false,
     "input": [
      "def cadena(j):\n",
      "    print(j*5)"
     ],
     "language": "python",
     "metadata": {},
     "outputs": [],
     "prompt_number": 5
    },
    {
     "cell_type": "heading",
     "level": 6,
     "metadata": {},
     "source": [
      "Cuando no sabemos cu\u00e1ntos par\u00e1metros vamos a recibir:"
     ]
    },
    {
     "cell_type": "code",
     "collapsed": false,
     "input": [
      "def varios(param1, param2, *otros):\n",
      "    for val in otros:\n",
      "        print(val)\n",
      "\n",
      "varios(1, 2)\n",
      "varios(1, 2, 3)\n",
      "varios(1, 2, 3, 4)"
     ],
     "language": "python",
     "metadata": {},
     "outputs": [
      {
       "output_type": "stream",
       "stream": "stdout",
       "text": [
        "3\n",
        "3\n",
        "4\n"
       ]
      }
     ],
     "prompt_number": 15
    },
    {
     "cell_type": "code",
     "collapsed": false,
     "input": [
      "def varios(param1, param2, **otros):\n",
      "    for val in otros.items():\n",
      "        print(val)\n",
      "\n",
      "varios(1, 2)\n",
      "varios(1, 2, otro = 3)\n",
      "varios(1, 2, otro = 3, unomas = 4)"
     ],
     "language": "python",
     "metadata": {},
     "outputs": [
      {
       "output_type": "stream",
       "stream": "stdout",
       "text": [
        "('otro', 3)\n",
        "('otro', 3)\n",
        "('unomas', 4)\n"
       ]
      }
     ],
     "prompt_number": 16
    },
    {
     "cell_type": "heading",
     "level": 6,
     "metadata": {},
     "source": [
      "Para asignar a un par\u00e1metro un valor por defecto:"
     ]
    },
    {
     "cell_type": "code",
     "collapsed": false,
     "input": [
      "def imprimir(texto, veces = 1):\n",
      "    print(texto * veces)\n",
      "    \n",
      "imprimir(\"hi \", 5)\n",
      "imprimir(\"hola\")"
     ],
     "language": "python",
     "metadata": {},
     "outputs": [
      {
       "output_type": "stream",
       "stream": "stdout",
       "text": [
        "hi hi hi hi hi \n",
        "hola\n"
       ]
      }
     ],
     "prompt_number": 19
    },
    {
     "cell_type": "heading",
     "level": 6,
     "metadata": {},
     "source": [
      "Retornar m\u00e1s de un valor:"
     ]
    },
    {
     "cell_type": "code",
     "collapsed": false,
     "input": [
      "def f(x, y):\n",
      "    return x * 2, y * 2\n",
      "\n",
      "a, b = f(1, 2)\n",
      "print(a)\n",
      "print(b)"
     ],
     "language": "python",
     "metadata": {},
     "outputs": [
      {
       "output_type": "stream",
       "stream": "stdout",
       "text": [
        "2\n",
        "4\n"
       ]
      }
     ],
     "prompt_number": 26
    }
   ],
   "metadata": {}
  }
 ]
}