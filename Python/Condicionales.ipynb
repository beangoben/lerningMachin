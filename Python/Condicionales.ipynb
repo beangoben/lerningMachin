{
 "metadata": {
  "name": "",
  "signature": "sha256:d0af91ee59e32c0cd3f8b86c0db540032befdbd717c698558b7d7be9349eccc5"
 },
 "nbformat": 3,
 "nbformat_minor": 0,
 "worksheets": [
  {
   "cells": [
    {
     "cell_type": "heading",
     "level": 1,
     "metadata": {},
     "source": [
      "Sentencias condicionales en Python"
     ]
    },
    {
     "cell_type": "markdown",
     "metadata": {},
     "source": [
      "Permiten comprobar condiciones y hacer que nuestro programa ejecute un fragmento de c\u00f3digo u otro, dependiendo de esta condici\u00f3n."
     ]
    },
    {
     "cell_type": "markdown",
     "metadata": {},
     "source": [
      "En cristiano, se utilizan para tomar decisiones. En la condicional metes los aspectos que tienes que tomar en cuenta para escoger una opci\u00f3n u otra."
     ]
    },
    {
     "cell_type": "markdown",
     "metadata": {},
     "source": [
      "Por ejemplo, imagina que tu mam\u00e1 te manda a la tienda a comprar pan. Te dice que le traigas cinco bolillos, pero que si hay conchas, compres dos de ellas y s\u00f3lo tres bolillos. Aqu\u00ed el aspecto a tomar en cuenta es si hay o no hay conchas. Tu condicional quedar\u00eda as\u00ed:"
     ]
    },
    {
     "cell_type": "code",
     "collapsed": false,
     "input": [
      "def comprarPan(hayConchas):\n",
      "    if hayConchas == True:\n",
      "        return \"Cinco bolillos\"\n",
      "    else:\n",
      "        return \"Dos conchas y tres bolillos\""
     ],
     "language": "python",
     "metadata": {},
     "outputs": []
    },
    {
     "cell_type": "markdown",
     "metadata": {},
     "source": [
      "Un ejemplo m\u00e1s matem\u00e1tico es hacer una funci\u00f3n que te diga si un n\u00famero es par. Una opci\u00f3n ser\u00eda la siguiente:"
     ]
    },
    {
     "cell_type": "heading",
     "level": 4,
     "metadata": {},
     "source": [
      "Sentencia if"
     ]
    },
    {
     "cell_type": "code",
     "collapsed": false,
     "input": [
      "def esPar(x):\n",
      "    if x ** 2 == 0:\n",
      "        return True"
     ],
     "language": "python",
     "metadata": {},
     "outputs": [],
     "prompt_number": 1
    },
    {
     "cell_type": "heading",
     "level": 4,
     "metadata": {},
     "source": [
      "Sentencia else:"
     ]
    },
    {
     "cell_type": "code",
     "collapsed": false,
     "input": [
      "def esPar(x):\n",
      "    if x ** 2 == 0:\n",
      "        return True\n",
      "    else:\n",
      "        return False"
     ],
     "language": "python",
     "metadata": {},
     "outputs": [],
     "prompt_number": 2
    },
    {
     "cell_type": "markdown",
     "metadata": {},
     "source": [
      "La sentencia if/else es muy \u00fatil cuando tienes que evaluar dos condiciones opuestas. Pero para situaciones en las que hay m\u00e1s de dos condiciones que influir\u00edan en la decisi\u00f3n, tambi\u00e9n existe la sentencia elif."
     ]
    },
    {
     "cell_type": "heading",
     "level": 4,
     "metadata": {},
     "source": [
      "Sentencia elif:"
     ]
    },
    {
     "cell_type": "code",
     "collapsed": false,
     "input": [
      "def desempenio(calif):\n",
      "    if calif >=9:\n",
      "        return \"Excelente\"\n",
      "    elif calif < 7:\n",
      "        return \"Malo\"\n",
      "    else:\n",
      "        return \"Normal\""
     ],
     "language": "python",
     "metadata": {},
     "outputs": []
    }
   ],
   "metadata": {}
  }
 ]
}