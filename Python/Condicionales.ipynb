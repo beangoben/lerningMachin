{
 "metadata": {
  "name": "",
  "signature": "sha256:ad93a7345275b892b89f7154c53242838a21d241a3fbeb3cce33b6c75082e1fc"
 },
 "nbformat": 3,
 "nbformat_minor": 0,
 "worksheets": [
  {
   "cells": [
    {
     "cell_type": "heading",
     "level": 1,
     "metadata": {},
     "source": [
      "Sentencias condicionales en Python"
     ]
    },
    {
     "cell_type": "heading",
     "level": 6,
     "metadata": {},
     "source": [
      "Permiten comprobar condiciones y hacer que nuestro programa ejecute un fragmento de c\u00f3digo u otro, dependiendo de esta condici\u00f3n."
     ]
    },
    {
     "cell_type": "heading",
     "level": 4,
     "metadata": {},
     "source": [
      "Sentencia if"
     ]
    },
    {
     "cell_type": "code",
     "collapsed": false,
     "input": [
      "def esPar(x):\n",
      "    if x ** 2 == 0:\n",
      "        return True"
     ],
     "language": "python",
     "metadata": {},
     "outputs": [],
     "prompt_number": 1
    },
    {
     "cell_type": "heading",
     "level": 4,
     "metadata": {},
     "source": [
      "Sentencia else:"
     ]
    },
    {
     "cell_type": "code",
     "collapsed": false,
     "input": [
      "def esPar(x):\n",
      "    if x ** 2 == 0:\n",
      "        return True\n",
      "    else:\n",
      "        return False"
     ],
     "language": "python",
     "metadata": {},
     "outputs": [],
     "prompt_number": 2
    },
    {
     "cell_type": "heading",
     "level": 4,
     "metadata": {},
     "source": [
      "Sentencia elif:"
     ]
    },
    {
     "cell_type": "code",
     "collapsed": false,
     "input": [
      "def desempenio(calif):\n",
      "    if calif >=9:\n",
      "        return \"Excelente\"\n",
      "    elif calif < 7:\n",
      "        return \"Malo\"\n",
      "    else:\n",
      "        return \"Normal\""
     ],
     "language": "python",
     "metadata": {},
     "outputs": []
    }
   ],
   "metadata": {}
  }
 ]
}