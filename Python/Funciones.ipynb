{
 "metadata": {
  "name": "",
  "signature": "sha256:63214b53f9a9b8a21084d342504b2192da69589f86cc2805e90c9bf38a6b091a"
 },
 "nbformat": 3,
 "nbformat_minor": 0,
 "worksheets": [
  {
   "cells": [
    {
     "cell_type": "heading",
     "level": 1,
     "metadata": {},
     "source": [
      "Funciones en Python"
     ]
    },
    {
     "cell_type": "heading",
     "level": 4,
     "metadata": {},
     "source": [
      "\u00bfQu\u00e9 es?"
     ]
    },
    {
     "cell_type": "markdown",
     "metadata": {},
     "source": [
      "Una funci\u00f3n es un pedazo de c\u00f3digo con un nombre asociado que realiza una serie de tareas y retorna un valor. "
     ]
    },
    {
     "cell_type": "markdown",
     "metadata": {},
     "source": [
      "Un ejemplo de funci\u00f3n es la de \"print\", que ya trae el paquete de Python. Pero tambi\u00e9n puedes crear tus propias funciones."
     ]
    },
    {
     "cell_type": "heading",
     "level": 4,
     "metadata": {},
     "source": [
      "\u00bfC\u00f3mo se declara?"
     ]
    },
    {
     "cell_type": "code",
     "collapsed": false,
     "input": [
      "def pasajes(costo, dinero):\n",
      "    \"\"\"Calcula cu\u00e1ntos pasajes te alcanzan con cierta \n",
      "    cantidad de dinero\"\"\"\n",
      "    x = dinero // costo\n",
      "    return x"
     ],
     "language": "python",
     "metadata": {},
     "outputs": [],
     "prompt_number": 4
    },
    {
     "cell_type": "heading",
     "level": 4,
     "metadata": {},
     "source": [
      "\u00bfC\u00f3mo se ejecuta?"
     ]
    },
    {
     "cell_type": "code",
     "collapsed": false,
     "input": [
      "def cadena(j):\n",
      "    print(j*5)\n",
      "    \n",
      "cadena(\"hi\")"
     ],
     "language": "python",
     "metadata": {},
     "outputs": [
      {
       "output_type": "stream",
       "stream": "stdout",
       "text": [
        "hihihihihi\n"
       ]
      }
     ],
     "prompt_number": 1
    },
    {
     "cell_type": "markdown",
     "metadata": {},
     "source": [
      "La ventaja de crear tus propias funciones es que, cuando tienes que hacer tareas repetitivas, puedes ahorrar l\u00edneas de c\u00f3digo escribiendo esas tareas s\u00f3lo una vez, en la declaraci\u00f3n de tu funci\u00f3n. Adem\u00e1s te permite reutilizar c\u00f3digo de otros programas."
     ]
    },
    {
     "cell_type": "heading",
     "level": 6,
     "metadata": {},
     "source": [
      "Cuando no sabemos cu\u00e1ntos par\u00e1metros vamos a recibir:"
     ]
    },
    {
     "cell_type": "code",
     "collapsed": false,
     "input": [
      "def varios(param1, param2, *otros):\n",
      "    for val in otros:\n",
      "        print(val)\n",
      "\n",
      "varios(1, 2)\n",
      "varios(1, 2, 3)\n",
      "varios(1, 2, 3, 4)"
     ],
     "language": "python",
     "metadata": {},
     "outputs": [
      {
       "output_type": "stream",
       "stream": "stdout",
       "text": [
        "3\n",
        "3\n",
        "4\n"
       ]
      }
     ],
     "prompt_number": 15
    },
    {
     "cell_type": "code",
     "collapsed": false,
     "input": [
      "def varios(param1, param2, **otros):\n",
      "    for val in otros.items():\n",
      "        print(val)\n",
      "\n",
      "varios(1, 2)\n",
      "varios(1, 2, otro = 3)\n",
      "varios(1, 2, otro = 3, unomas = 4)"
     ],
     "language": "python",
     "metadata": {},
     "outputs": [
      {
       "output_type": "stream",
       "stream": "stdout",
       "text": [
        "('otro', 3)\n",
        "('otro', 3)\n",
        "('unomas', 4)\n"
       ]
      }
     ],
     "prompt_number": 16
    },
    {
     "cell_type": "markdown",
     "metadata": {},
     "source": [
      "Para asignar a un par\u00e1metro un valor por defecto:"
     ]
    },
    {
     "cell_type": "code",
     "collapsed": false,
     "input": [
      "def imprimir(texto, veces = 1):\n",
      "    print(texto * veces)\n",
      "    \n",
      "imprimir(\"hi \", 5)\n",
      "imprimir(\"hola\")"
     ],
     "language": "python",
     "metadata": {},
     "outputs": [
      {
       "output_type": "stream",
       "stream": "stdout",
       "text": [
        "hi hi hi hi hi \n",
        "hola\n"
       ]
      }
     ],
     "prompt_number": 19
    },
    {
     "cell_type": "markdown",
     "metadata": {},
     "source": [
      "Retornar m\u00e1s de un valor:"
     ]
    },
    {
     "cell_type": "code",
     "collapsed": false,
     "input": [
      "def f(x, y):\n",
      "    return x * 2, y * 2\n",
      "\n",
      "a, b = f(1, 2)\n",
      "print(a)\n",
      "print(b)"
     ],
     "language": "python",
     "metadata": {},
     "outputs": [
      {
       "output_type": "stream",
       "stream": "stdout",
       "text": [
        "2\n",
        "4\n"
       ]
      }
     ],
     "prompt_number": 26
    },
    {
     "cell_type": "heading",
     "level": 2,
     "metadata": {},
     "source": [
      "Ejercicios"
     ]
    },
    {
     "cell_type": "markdown",
     "metadata": {},
     "source": [
      "1. Imagina que tienes tres pantalones y ocho camisas diferentes. Dise\u00f1a un programa que te diga cu\u00e1ntos atuendos posibles puedes formar al combinarlos.\n",
      "2. Ahora escribe una funci\u00f3n que calcule el n\u00famero de combinaciones posibles, dados un n\u00famero cualquiera de camisas y otro de pantalones.\n",
      "3. Imagina que puedes escoger entre dos promociones para comprar az\u00facar. La primera opci\u00f3n te permite comprar un kilo, cuyo precio original es 16 pesos, con un 10% de descuento. La segunda opci\u00f3n es comprar un kilo y recibir gratis un 10% m\u00e1s de az\u00facar. \u00bfC\u00f3mo puedes saber qu\u00e9 opci\u00f3n te conviene m\u00e1s? Haz un programa que lo calcule.\n",
      "4. Ahora has una funci\u00f3n que te diga qu\u00e9 opci\u00f3n es la mejor, dado el precio de la unidad, el porcentaje del descuento para la opci\u00f3n 1 y el porcentaje de regalo para la opci\u00f3n 2. C\u00f3rrela para los siguientes art\u00edculos:\n",
      "+ Tortillas, a 12 pesos el kilo, 5% de descuento o 10% de regalo.\n",
      "+ Caf\u00e9, a 40 pesos los 300 gramos, 30% de descuento o 33% m\u00e1s de producto\n",
      "+ Harina para hot cakes (ay, qu\u00e9 rico), a 58 pesos el kilo, 40% de descuento o 35% gratis.\n",
      "5. Para empezar con algo m\u00e1s abstracto, dise\u00f1a una funci\u00f3n que te retorne el factorial de un n\u00famero dado. El factorial de un n\u00famero n es: (http://schooltutoring.com/help/wp-content/uploads/sites/2/2014/04/factorial-formula.gif)\n",
      "6. Por \u00faltimo, haz una funci\u00f3n que retorne el t\u00e9rmino n de la sucesi\u00f3n de Fibonacci."
     ]
    }
   ],
   "metadata": {}
  }
 ]
}