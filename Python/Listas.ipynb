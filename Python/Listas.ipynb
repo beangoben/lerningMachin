{
 "metadata": {
  "name": "",
  "signature": "sha256:71c6591bdc073006ad6a41cf6efe359d8200015b7021b18c641cca99e7ec4392"
 },
 "nbformat": 3,
 "nbformat_minor": 0,
 "worksheets": [
  {
   "cells": [
    {
     "cell_type": "heading",
     "level": 1,
     "metadata": {},
     "source": [
      "Listas"
     ]
    },
    {
     "cell_type": "heading",
     "level": 3,
     "metadata": {},
     "source": [
      "\u00bfQu\u00e9 es una lista?"
     ]
    },
    {
     "cell_type": "markdown",
     "metadata": {},
     "source": [
      "- Una lista es una agrupaci\u00f3n de uno o diversos tipos de variables.\n",
      "- Podemos manejar cualquier tipo de variables dentro de una misma lista.\n",
      "- Incluso podemos crear una lista de listas, lo que har\u00eda de dicha lista una matriz.\n"
     ]
    },
    {
     "cell_type": "heading",
     "level": 3,
     "metadata": {},
     "source": [
      "\u00bfC\u00f3mo definimos una lista?"
     ]
    },
    {
     "cell_type": "markdown",
     "metadata": {},
     "source": [
      "En general, hay dos maneras:\n",
      "- **Definiendo los elementos de la lista.** Para ello usamos los corchetes [ ] para decir los elementos que conntendr\u00e1 la lista, separados por comas.\n",
      "- **Usando una funci\u00f3n de lista.** Podemos utilizar una funci\u00f3n de lista para agregar elementos a una lista.\n",
      "\n",
      "En ambos casos hay que definir la lista como una variable y utilizar el operador de asignaci\u00f3n = (igual) para darle valores."
     ]
    },
    {
     "cell_type": "heading",
     "level": 3,
     "metadata": {},
     "source": [
      "Ejemplo: \n",
      "\n",
      "(1er. manera de crear una lista)"
     ]
    },
    {
     "cell_type": "code",
     "collapsed": false,
     "input": [
      "print(\"Manera 1 de definir una lista: \")\n",
      "my_list_1 = [ 11, 3.141592, 3 + 4j, \"Texto\" ]\n",
      "print(my_list_1)"
     ],
     "language": "python",
     "metadata": {},
     "outputs": [
      {
       "output_type": "stream",
       "stream": "stdout",
       "text": [
        "Manera 1 de definir una lista: \n",
        "[11, 3.141592, (3+4j), 'Texto']\n"
       ]
      }
     ],
     "prompt_number": 4
    },
    {
     "cell_type": "heading",
     "level": 3,
     "metadata": {},
     "source": [
      "\u00bfC\u00f3mo accesar a los elementos de una lista de manera individual?"
     ]
    },
    {
     "cell_type": "markdown",
     "metadata": {},
     "source": [
      "- Cada elemento de una lista tiene un \u00edndice.\n",
      "- Los indices empiezan desde 0 hasta $n-1$, donde $n$ es la cantidad de elementos que tiene la lista.\n",
      "- Para accesar a los elementos de una lista, basta escribir el nombre de la lista seguida de corchetes con el \u00edndice del elemento que queremos acceder dentro. As\u00ed, si queremos accesar al primer elemento, lo hacemos ponendo 0 entre los corchetes; si queremos el segundo, entre corchetes pondremos 1; y as\u00ed sucesivamente."
     ]
    },
    {
     "cell_type": "heading",
     "level": 3,
     "metadata": {},
     "source": [
      "Ejemplo:"
     ]
    },
    {
     "cell_type": "code",
     "collapsed": false,
     "input": [
      "print(my_list_1[0])\n",
      "print(my_list_1[1])\n",
      "print(my_list_1[2])\n",
      "print(my_list_1[3])"
     ],
     "language": "python",
     "metadata": {},
     "outputs": [
      {
       "output_type": "stream",
       "stream": "stdout",
       "text": [
        "11\n",
        "3.141592\n",
        "(3+4j)\n",
        "Texto\n"
       ]
      }
     ],
     "prompt_number": 5
    },
    {
     "cell_type": "markdown",
     "metadata": {},
     "source": [
      "- Tambi\u00e9n podemos utilizar \u00edndices negativos para acceder a los elementos de una lista. As\u00ed, el \u00edndice -1 ser\u00e1 el \u00faltimo elemento de la lista."
     ]
    },
    {
     "cell_type": "heading",
     "level": 3,
     "metadata": {},
     "source": [
      "Ejemplo:"
     ]
    },
    {
     "cell_type": "code",
     "collapsed": false,
     "input": [
      "print(my_list_1[-1])\n",
      "print(my_list_1[-2])\n",
      "print(my_list_1[-3])\n",
      "print(my_list_1[-4])"
     ],
     "language": "python",
     "metadata": {},
     "outputs": [
      {
       "output_type": "stream",
       "stream": "stdout",
       "text": [
        "Texto\n",
        "(3+4j)\n",
        "3.141592\n",
        "11\n"
       ]
      }
     ],
     "prompt_number": 6
    },
    {
     "cell_type": "heading",
     "level": 3,
     "metadata": {},
     "source": [
      "\u00bfCu\u00e1les son las funciones que tiene una lista?"
     ]
    },
    {
     "cell_type": "markdown",
     "metadata": {},
     "source": [
      "| Funci\u00f3n         | \u00bfQu\u00e9 hace?    |\n",
      "| :-------------: |:-------------|\n",
      "|  `len()` | Devuelve la longitud de la lista, es decir, la cantidad de elementos. |\n",
      "|  `append(element)` | A\u00f1ade el elemento al final de la lista. (Esta es la segunda manera de agregar elementos a una lista.) |\n",
      "|  `count(element)` | Cuenta las veces que aparece el elemento en la lista. |\n",
      "|  `insert(index, element)` | Inserta el elemento en el indice dado. (Si no se da el \u00edndice, por default quita el \u00faltimo.)|\n",
      "|  `pop(index)` | Devuelve el elemento que se encuentra en el indice dado. |\n",
      "|  `sort()` | Ordena la lista. |\n",
      "|  `reverse()` | Invierte el orden de la lista. |\n",
      "\n",
      "- A excepci\u00f3n de `len()`, la manera de usar las funciones es poniendo el nombre de la lista, seguido de punto y la funci\u00f3n a utilizar con su(s) respectivo(s) par\u00e1metro(s).\n",
      "- La manera de usar `len()`, la vemos en el ejemplo a continuaci\u00f3n.\n",
      "- `sort()` se puede utilizar siempre y cuando en la lista est\u00e9 formada s\u00f3lamente por valores num\u00e9ricos.\n",
      "- La manera de unir dos listas, es utilizando el operador `+`."
     ]
    },
    {
     "cell_type": "heading",
     "level": 3,
     "metadata": {},
     "source": [
      "Ejemplos:"
     ]
    },
    {
     "cell_type": "code",
     "collapsed": false,
     "input": [
      "# Vemos la longitud de my_list_1:\n",
      "print(len(my_list_1))\n",
      "# A\u00f1adimos un elemento al final de my_list_1:\n",
      "my_list_1.append(11)\n",
      "print(my_list_1)\n",
      "# Contamos las veces que se encuentra el elemento en la lista:\n",
      "print(my_list_1.count(11))\n",
      "# Insertamos el elemento en el \u00edndice dado de my_list_1:\n",
      "my_list_1.insert(2,11)\n",
      "print(my_list_1)\n",
      "# Sacamos el elemento de \u00edndice de my_list_1:\n",
      "my_list_1.pop()\n",
      "print(my_list_1)\n",
      "# Invertimos my_list_1:\n",
      "my_list_1.reverse()\n",
      "print(my_list_1)"
     ],
     "language": "python",
     "metadata": {},
     "outputs": [
      {
       "output_type": "stream",
       "stream": "stdout",
       "text": [
        "4\n",
        "[11, 3.141592, (3+4j), 'Texto', 11]\n",
        "2\n",
        "[11, 3.141592, 11, (3+4j), 'Texto', 11]\n",
        "[11, 3.141592, 11, (3+4j), 'Texto']\n",
        "['Texto', (3+4j), 11, 3.141592, 11]\n"
       ]
      }
     ],
     "prompt_number": 7
    },
    {
     "cell_type": "markdown",
     "metadata": {},
     "source": [
      "Entonces, la manera 2 de crear una lista, es a\u00f1adiendo elementos al final o en cierta posici\u00f3n utilizando `append(element)` o `insert(index,element)`"
     ]
    },
    {
     "cell_type": "heading",
     "level": 3,
     "metadata": {},
     "source": [
      "Ejemplo: (2da. manera de crear una lista)"
     ]
    },
    {
     "cell_type": "code",
     "collapsed": false,
     "input": [
      "my_list_2 = []\n",
      "my_list_2.append(11)\n",
      "my_list_2.append(\"Spider Man\")\n",
      "my_list_2.append(3 + 4j)\n",
      "my_list_2.append(9.999999)\n",
      "print(my_list_2)\n",
      "\n",
      "# Utilizando el operador +:\n",
      "print(my_list_1 + my_list_2) # Unimos las listas 1 y 2"
     ],
     "language": "python",
     "metadata": {},
     "outputs": [
      {
       "output_type": "stream",
       "stream": "stdout",
       "text": [
        "[11, 'Spider Man', (3+4j), 9.999999]\n",
        "['Texto', (3+4j), 11, 3.141592, 11, 11, 'Spider Man', (3+4j), 9.999999]\n"
       ]
      }
     ],
     "prompt_number": 11
    },
    {
     "cell_type": "heading",
     "level": 2,
     "metadata": {},
     "source": [
      "Ejercicios:"
     ]
    },
    {
     "cell_type": "markdown",
     "metadata": {},
     "source": [
      "- Crear una lista llamada `LISTA_UNO` con la primer manera que explicamos, que contenga los n\u00fameros del 1 al 10.\n",
      "- Crear una lista llamada `LISTA_DOS` utilizando la funci\u00f3n `append(X)` en la que el elemento que a\u00f1adiremos ser\u00e1 el elemento $i$-\u00e9simo de `LISTA_UNO` elevado al cuadrado.\n",
      "- Imprimir ambas listas."
     ]
    }
   ],
   "metadata": {}
  }
 ]
}