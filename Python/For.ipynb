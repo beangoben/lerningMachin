{
 "metadata": {
  "name": "",
  "signature": "sha256:6f61f389987c1c906963e54e7b2e27b2bcb33ca7ef81b57aec0b710c534dfa3f"
 },
 "nbformat": 3,
 "nbformat_minor": 0,
 "worksheets": [
  {
   "cells": [
    {
     "cell_type": "heading",
     "level": 1,
     "metadata": {},
     "source": [
      "Ciclo for"
     ]
    },
    {
     "cell_type": "markdown",
     "metadata": {},
     "source": [
      "- Un ciclo for es una estructura de control que permite repetir c\u00f3digo un n\u00famero de veces.\n",
      "- Los ciclos deben ser finitos.\n",
      "- Puede haber ciclos infinitos, usualmente son generados por errores de programaci\u00f3n en el c\u00f3digo.\n",
      "- Generalmente se utilizan para iterar ciertas veces un c\u00f3digo o para iterar los \u00edndices de listas, etc."
     ]
    },
    {
     "cell_type": "heading",
     "level": 3,
     "metadata": {},
     "source": [
      "\u00bfC\u00f3mo se usan los ciclos for?"
     ]
    },
    {
     "cell_type": "markdown",
     "metadata": {},
     "source": [
      "Escribimos la palabra `for` seguida de un iterador (puede tener cualquier nombre), seguida de `in`, y finalmente escribimos los datos sobre los que itera:"
     ]
    },
    {
     "cell_type": "code",
     "collapsed": false,
     "input": [
      "for i in range (3):\n",
      "    print(i)"
     ],
     "language": "python",
     "metadata": {},
     "outputs": [
      {
       "output_type": "stream",
       "stream": "stdout",
       "text": [
        "0\n",
        "1\n",
        "2\n"
       ]
      }
     ],
     "prompt_number": 4
    },
    {
     "cell_type": "markdown",
     "metadata": {},
     "source": [
      "***Nota:*** *`range(init,end,n)` nos da una lista de valores desde `init` hasta `end` (sin contener a `end`) espaciado por `n` valores. Por default, `init` es 0, por o que en el ejemplo `range(3)` son los n\u00fameros de 0 a 2.*"
     ]
    },
    {
     "cell_type": "heading",
     "level": 3,
     "metadata": {},
     "source": [
      "Usos del ciclo for:"
     ]
    },
    {
     "cell_type": "markdown",
     "metadata": {},
     "source": [
      "Pensemos que tenemos un robot que quiere avanzar de manera lineal sobre una mesa hasta la orilla y que sabemos cuantos pasos puede dar hasta antes de caer.\n",
      "<img src=\"http://web.mit.edu/jlramos/www/Imagens/PsyVolt.jpg\" width=\"20%\">\n",
      "\n",
      "Dado que al robot tenemos que darle instrucciones como *\"avanza un paso\"*, podemos aplicar un ciclo for:\n",
      "\n",
      "El pseudoc\u00f3digo ser\u00eda:\n",
      "[avanzaremos mientras que el n\u00famero de pasos est\u00e9 en el rango posible de pasos que podemos dar (antes del l\u00edmite que conocemos, es decir, antes de caer)]\n",
      "\n",
      "``` python\n",
      "l\u00edmite de pasos = 10\n",
      "para cada posible paso si est\u00e1s en el rango (o sea, antes de caer):\n",
      "    da un paso\n",
      "```\n",
      "\n",
      "Entonces en python escribir\u00edamos:"
     ]
    },
    {
     "cell_type": "code",
     "collapsed": false,
     "input": [
      "lim_pasos = 10\n",
      "contador_de_pasos = 0\n",
      "for i in range(lim_pasos):\n",
      "    print(\"Da un paso\")\n",
      "    contador_de_pasos = contador_de_pasos + 1\n",
      "\n",
      "print(\"El n\u00famero de pasos que diste es: \", contador_de_pasos)"
     ],
     "language": "python",
     "metadata": {},
     "outputs": [
      {
       "output_type": "stream",
       "stream": "stdout",
       "text": [
        "Da un paso\n",
        "Da un paso\n",
        "Da un paso\n",
        "Da un paso\n",
        "Da un paso\n",
        "Da un paso\n",
        "Da un paso\n",
        "Da un paso\n",
        "Da un paso\n",
        "Da un paso\n",
        "('El n\\xc3\\xbamero de pasos que diste es: ', 10)\n"
       ]
      }
     ],
     "prompt_number": 6
    },
    {
     "cell_type": "markdown",
     "metadata": {},
     "source": [
      "Pensemos que tenemos una lista de muchos elementos. Otro uso de un for, es para iterar y acceder a todos los elementos del for sin tener que hacerlo de uno por uno."
     ]
    },
    {
     "cell_type": "code",
     "collapsed": false,
     "input": [
      "lista = []\n",
      "for i in range(100):\n",
      "    lista.append(i+1)\n",
      "print lista\n",
      "\n",
      "for i in range(len(lista)):\n",
      "    lista[i] = lista[i] / (i+1)\n",
      "print lista"
     ],
     "language": "python",
     "metadata": {},
     "outputs": [
      {
       "output_type": "stream",
       "stream": "stdout",
       "text": [
        "[1, 2, 3, 4, 5, 6, 7, 8, 9, 10, 11, 12, 13, 14, 15, 16, 17, 18, 19, 20, 21, 22, 23, 24, 25, 26, 27, 28, 29, 30, 31, 32, 33, 34, 35, 36, 37, 38, 39, 40, 41, 42, 43, 44, 45, 46, 47, 48, 49, 50, 51, 52, 53, 54, 55, 56, 57, 58, 59, 60, 61, 62, 63, 64, 65, 66, 67, 68, 69, 70, 71, 72, 73, 74, 75, 76, 77, 78, 79, 80, 81, 82, 83, 84, 85, 86, 87, 88, 89, 90, 91, 92, 93, 94, 95, 96, 97, 98, 99, 100]\n",
        "[1, 1, 1, 1, 1, 1, 1, 1, 1, 1, 1, 1, 1, 1, 1, 1, 1, 1, 1, 1, 1, 1, 1, 1, 1, 1, 1, 1, 1, 1, 1, 1, 1, 1, 1, 1, 1, 1, 1, 1, 1, 1, 1, 1, 1, 1, 1, 1, 1, 1, 1, 1, 1, 1, 1, 1, 1, 1, 1, 1, 1, 1, 1, 1, 1, 1, 1, 1, 1, 1, 1, 1, 1, 1, 1, 1, 1, 1, 1, 1, 1, 1, 1, 1, 1, 1, 1, 1, 1, 1, 1, 1, 1, 1, 1, 1, 1, 1, 1, 1]\n"
       ]
      }
     ],
     "prompt_number": 15
    },
    {
     "cell_type": "heading",
     "level": 1,
     "metadata": {},
     "source": [
      "Ejercicios:"
     ]
    },
    {
     "cell_type": "markdown",
     "metadata": {},
     "source": [
      "- Crear una lista vac\u00eda y usar un for para agregar el n\u00famero del \u00edndice m\u00e1s uno al cuadrado.\n",
      "- A partir de la lista dada, crear otra e iterar sobre cada elemento de la primera para asignar el mismo elemento, es decir, al final obtendr\u00e1s dos listas con exactamente los mismos valores."
     ]
    }
   ],
   "metadata": {}
  }
 ]
}