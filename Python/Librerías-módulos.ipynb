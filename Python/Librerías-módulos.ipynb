{
 "metadata": {
  "name": "",
  "signature": "sha256:6c0708f832efc9af98a507c6fed5acb20a7871d95cb1df500492baa1911701c5"
 },
 "nbformat": 3,
 "nbformat_minor": 0,
 "worksheets": [
  {
   "cells": [
    {
     "cell_type": "markdown",
     "metadata": {},
     "source": [
      "# **LIBRERIAS**"
     ]
    },
    {
     "cell_type": "markdown",
     "metadata": {},
     "source": [
      "Las librer\u00edas o m\u00f3dulos como se les llama en python, son grupos de funciones alojadas en un archivo .py . Con ellos se les puede teer organizadas"
     ]
    },
    {
     "cell_type": "heading",
     "level": 5,
     "metadata": {},
     "source": [
      "Lo que se busca con el uso de los m\u00f3dulos es mantener organizadas nuestras funciones para hacer m\u00e1s f\u00e1cil su uso, siendo que en cada librer\u00eda se puede tener una gran cantidad de ellas, y al importarla solo hacer uso de las que realmente "
     ]
    },
    {
     "cell_type": "heading",
     "level": 3,
     "metadata": {},
     "source": [
      "1.1 IMPORTACI\u00d3N DE LIBRERIAS"
     ]
    },
    {
     "cell_type": "markdown",
     "metadata": {},
     "source": [
      "   Para importar los m\u00f3dulos se puede hacer de diferentes maneras ya sea usando *from* o *import*; si se requiere primeramente importar un m\u00f3dulo, se hace directamente con *import* y el nombre del archivo seguido por *as* si es que deseamos importarlo con un nombre diferente, como en el ejemplo, la librer\u00eda importada es *numpy*, pero para su uso la llamaremos *np*"
     ]
    },
    {
     "cell_type": "code",
     "collapsed": false,
     "input": [
      "import numpy as np\n",
      "print(np.sqrt(9))"
     ],
     "language": "python",
     "metadata": {},
     "outputs": [
      {
       "output_type": "stream",
       "stream": "stdout",
       "text": [
        "3.0\n"
       ]
      }
     ],
     "prompt_number": 21
    },
    {
     "cell_type": "heading",
     "level": 5,
     "metadata": {},
     "source": [
      "Otra manera es directamente especificando desde cual libreria lo que vamos a importar, lo que resulta es ya no tener que especificarlo al momento de imprimirlo.Est\u00e1 forma tiene la ventaja es que por ejemplo , por que importar miles de items si s\u00f3lo necesitas uno, la siguiente forma nos ayudar\u00e1 si es el caso."
     ]
    },
    {
     "cell_type": "code",
     "collapsed": false,
     "input": [
      "from numpy import sqrt\n",
      "print(sqrt(9))"
     ],
     "language": "python",
     "metadata": {},
     "outputs": [
      {
       "output_type": "stream",
       "stream": "stdout",
       "text": [
        "3.0\n"
       ]
      }
     ],
     "prompt_number": 19
    },
    {
     "cell_type": "heading",
     "level": 5,
     "metadata": {},
     "source": [
      "Finalmente si lo que se quiere es s\u00f3lo importar toda a librer\u00eda , solo  es con import *numpy*"
     ]
    },
    {
     "cell_type": "code",
     "collapsed": false,
     "input": [
      "import numpy\n"
     ],
     "language": "python",
     "metadata": {},
     "outputs": [],
     "prompt_number": 22
    }
   ],
   "metadata": {}
  }
 ]
}