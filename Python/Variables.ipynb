{
 "metadata": {
  "name": "",
  "signature": "sha256:d290d607f154fe7ba32e0579a79168cbf04ae90c48548ebabc7ebe786014e5c9"
 },
 "nbformat": 3,
 "nbformat_minor": 0,
 "worksheets": [
  {
   "cells": [
    {
     "cell_type": "heading",
     "level": 1,
     "metadata": {},
     "source": [
      "Variables"
     ]
    },
    {
     "cell_type": "heading",
     "level": 3,
     "metadata": {},
     "source": [
      "\u00bfQu\u00e9 es una variable?"
     ]
    },
    {
     "cell_type": "markdown",
     "metadata": {},
     "source": [
      "- Podemos pensar en una variable como un contenedor para almacenar datos.\n",
      "- Formalmente son espacios en la memoria de nuestra computadora que almacenan datos."
     ]
    },
    {
     "cell_type": "heading",
     "level": 3,
     "metadata": {},
     "source": [
      "\u00bfQu\u00e9 tipo de datos pueden almacenar?"
     ]
    },
    {
     "cell_type": "markdown",
     "metadata": {},
     "source": [
      "Los tres tipos simples de datos son:\n",
      "- N\u00fameros:\n",
      "    - Enteros\n",
      "    - Reales (punto flotante)\n",
      "    - Complejos\n",
      "- Cadenas de texto\n",
      "- Valores booleanos\n"
     ]
    },
    {
     "cell_type": "heading",
     "level": 3,
     "metadata": {},
     "source": [
      "\u00bfC\u00f3mo es que se definen las variables?"
     ]
    },
    {
     "cell_type": "markdown",
     "metadata": {},
     "source": [
      "B\u00e1sicamente, utilizaremos el operador de asignaci\u00f3n = (igual), para definir el tipo de dato que guardar\u00e1 la variable. Respecto al nombre, los nombres deben comenzar con letras y no debe haber espacios entre el nombre."
     ]
    },
    {
     "cell_type": "code",
     "collapsed": false,
     "input": [
      "miperro = 5\n",
      "MiPerro = 2.3\n",
      "Mi_Perro = 2 + 4j\n",
      "\n",
      "print(type(miperro))\n",
      "print(type(MiPerro))\n",
      "print(type(Mi_Perro))"
     ],
     "language": "python",
     "metadata": {},
     "outputs": [
      {
       "output_type": "stream",
       "stream": "stdout",
       "text": [
        "<type 'int'>\n",
        "<type 'float'>\n",
        "<type 'complex'>\n"
       ]
      }
     ],
     "prompt_number": 1
    },
    {
     "cell_type": "code",
     "collapsed": false,
     "input": [
      "Mi_Perro = 4\n",
      "print(Mi_Perro)"
     ],
     "language": "python",
     "metadata": {},
     "outputs": [
      {
       "output_type": "stream",
       "stream": "stdout",
       "text": [
        "4\n"
       ]
      }
     ],
     "prompt_number": 2
    },
    {
     "cell_type": "code",
     "collapsed": false,
     "input": [
      "Mi_Perro = \"Firulais\"\n",
      "miperro = 'Rocky'\n",
      "\n",
      "print(Mi_Perro)"
     ],
     "language": "python",
     "metadata": {},
     "outputs": [
      {
       "output_type": "stream",
       "stream": "stdout",
       "text": [
        "Firulais\n"
       ]
      }
     ],
     "prompt_number": 3
    },
    {
     "cell_type": "code",
     "collapsed": false,
     "input": [
      "print(miperro)"
     ],
     "language": "python",
     "metadata": {},
     "outputs": [
      {
       "output_type": "stream",
       "stream": "stdout",
       "text": [
        "Rocky\n"
       ]
      }
     ],
     "prompt_number": 6
    },
    {
     "cell_type": "code",
     "collapsed": false,
     "input": [
      "print(type(Mi_Perro))"
     ],
     "language": "python",
     "metadata": {},
     "outputs": [
      {
       "output_type": "stream",
       "stream": "stdout",
       "text": [
        "<type 'str'>\n"
       ]
      }
     ],
     "prompt_number": 7
    },
    {
     "cell_type": "code",
     "collapsed": false,
     "input": [
      "spiderman = True\n",
      "venom = False\n",
      "\n",
      "print(type(spiderman))\n",
      "print(spiderman)"
     ],
     "language": "python",
     "metadata": {},
     "outputs": [
      {
       "output_type": "stream",
       "stream": "stdout",
       "text": [
        "<type 'bool'>\n",
        "True\n"
       ]
      }
     ],
     "prompt_number": 9
    },
    {
     "cell_type": "heading",
     "level": 3,
     "metadata": {},
     "source": [
      "Operaciones aritm\u00e9ticas"
     ]
    },
    {
     "cell_type": "markdown",
     "metadata": {},
     "source": [
      "Las operaciones aritm\u00e9ticas que podemos realizar con variables num\u00e9ricas son:\n",
      "- Suma (+)\n",
      "- Resta (-)\n",
      "- Multiplicaci\u00f3n (*)\n",
      "- Divisi\u00f3n (/)\n",
      "- Divisi\u00f3n entera (//)\n",
      "- Residuo (%)"
     ]
    },
    {
     "cell_type": "code",
     "collapsed": false,
     "input": [
      "x = 3\n",
      "y = 5\n",
      "z = x + y\n",
      "print(z)"
     ],
     "language": "python",
     "metadata": {},
     "outputs": [
      {
       "output_type": "stream",
       "stream": "stdout",
       "text": [
        "8\n"
       ]
      }
     ],
     "prompt_number": 18
    },
    {
     "cell_type": "code",
     "collapsed": false,
     "input": [
      "z = z - x\n",
      "print(z)"
     ],
     "language": "python",
     "metadata": {},
     "outputs": [
      {
       "output_type": "stream",
       "stream": "stdout",
       "text": [
        "5\n"
       ]
      }
     ],
     "prompt_number": 19
    },
    {
     "cell_type": "code",
     "collapsed": false,
     "input": [
      "x = x * y"
     ],
     "language": "python",
     "metadata": {},
     "outputs": [],
     "prompt_number": 20
    },
    {
     "cell_type": "code",
     "collapsed": false,
     "input": [
      "z = z / y"
     ],
     "language": "python",
     "metadata": {},
     "outputs": [],
     "prompt_number": 21
    },
    {
     "cell_type": "code",
     "collapsed": false,
     "input": [
      "print(x)\n",
      "print(z)"
     ],
     "language": "python",
     "metadata": {},
     "outputs": [
      {
       "output_type": "stream",
       "stream": "stdout",
       "text": [
        "15\n",
        "1\n"
       ]
      }
     ],
     "prompt_number": 22
    },
    {
     "cell_type": "code",
     "collapsed": false,
     "input": [
      "z = 3.2\n",
      "x = 2\n",
      "z = z // x\n",
      "print(z)"
     ],
     "language": "python",
     "metadata": {},
     "outputs": [
      {
       "output_type": "stream",
       "stream": "stdout",
       "text": [
        "1.0\n"
       ]
      }
     ],
     "prompt_number": 23
    },
    {
     "cell_type": "code",
     "collapsed": false,
     "input": [
      "x = 5 % 3\n",
      "print(x)"
     ],
     "language": "python",
     "metadata": {},
     "outputs": [
      {
       "output_type": "stream",
       "stream": "stdout",
       "text": [
        "2\n"
       ]
      }
     ],
     "prompt_number": 24
    },
    {
     "cell_type": "heading",
     "level": 3,
     "metadata": {},
     "source": [
      "Operaciones con cadenas de texto"
     ]
    },
    {
     "cell_type": "markdown",
     "metadata": {},
     "source": [
      "Las operaciones son:\n",
      "- Concatenar (+)\n",
      "- Repetir texto (*)"
     ]
    },
    {
     "cell_type": "code",
     "collapsed": false,
     "input": [
      "mejor_heroe = \"Spiderman\"\n",
      "texto = \"El mejor h\u00e9roe es: \"\n",
      "heroe = texto + mejor_heroe\n",
      "print(heroe)"
     ],
     "language": "python",
     "metadata": {},
     "outputs": [
      {
       "output_type": "stream",
       "stream": "stdout",
       "text": [
        "El mejor h\u00e9roe es: Spiderman\n"
       ]
      }
     ],
     "prompt_number": 32
    },
    {
     "cell_type": "code",
     "collapsed": false,
     "input": [
      "mejor_heroe = mejor_heroe*11\n",
      "print(mejor_heroe)"
     ],
     "language": "python",
     "metadata": {},
     "outputs": [
      {
       "output_type": "stream",
       "stream": "stdout",
       "text": [
        "SpidermanSpidermanSpidermanSpidermanSpidermanSpidermanSpidermanSpidermanSpidermanSpidermanSpiderman\n"
       ]
      }
     ],
     "prompt_number": 33
    },
    {
     "cell_type": "heading",
     "level": 2,
     "metadata": {},
     "source": [
      "Observaciones:"
     ]
    },
    {
     "cell_type": "markdown",
     "metadata": {},
     "source": [
      "- \u00bfQu\u00e9 sucede cuando operamos variables de distinto tipo?\n",
      "- \u00bfC\u00f3mo puedo cambiar el tipo de variables para operar?"
     ]
    },
    {
     "cell_type": "code",
     "collapsed": false,
     "input": [
      "x = 3\n",
      "print(type(x))\n",
      "y = 2.8\n",
      "print(type(y))"
     ],
     "language": "python",
     "metadata": {},
     "outputs": [
      {
       "output_type": "stream",
       "stream": "stdout",
       "text": [
        "<type 'int'>\n",
        "<type 'float'>\n"
       ]
      }
     ],
     "prompt_number": 34
    },
    {
     "cell_type": "code",
     "collapsed": false,
     "input": [
      "print(x+y)"
     ],
     "language": "python",
     "metadata": {},
     "outputs": [
      {
       "output_type": "stream",
       "stream": "stdout",
       "text": [
        "5.8\n"
       ]
      }
     ],
     "prompt_number": 35
    },
    {
     "cell_type": "code",
     "collapsed": false,
     "input": [
      "perro = \"Mirlo\"\n",
      "print(perro+x)"
     ],
     "language": "python",
     "metadata": {},
     "outputs": [
      {
       "ename": "TypeError",
       "evalue": "cannot concatenate 'str' and 'int' objects",
       "output_type": "pyerr",
       "traceback": [
        "\u001b[0;31m---------------------------------------------------------------------------\u001b[0m\n\u001b[0;31mTypeError\u001b[0m                                 Traceback (most recent call last)",
        "\u001b[0;32m<ipython-input-36-b309818b85ce>\u001b[0m in \u001b[0;36m<module>\u001b[0;34m()\u001b[0m\n\u001b[1;32m      1\u001b[0m \u001b[0mperro\u001b[0m \u001b[0;34m=\u001b[0m \u001b[0;34m\"Mirlo\"\u001b[0m\u001b[0;34m\u001b[0m\u001b[0m\n\u001b[0;32m----> 2\u001b[0;31m \u001b[0;32mprint\u001b[0m\u001b[0;34m(\u001b[0m\u001b[0mperro\u001b[0m\u001b[0;34m+\u001b[0m\u001b[0mx\u001b[0m\u001b[0;34m)\u001b[0m\u001b[0;34m\u001b[0m\u001b[0m\n\u001b[0m",
        "\u001b[0;31mTypeError\u001b[0m: cannot concatenate 'str' and 'int' objects"
       ]
      }
     ],
     "prompt_number": 36
    },
    {
     "cell_type": "code",
     "collapsed": false,
     "input": [
      "x = 2\n",
      "y = \"3\"\n",
      "print(x+y)"
     ],
     "language": "python",
     "metadata": {},
     "outputs": [
      {
       "ename": "TypeError",
       "evalue": "unsupported operand type(s) for +: 'int' and 'str'",
       "output_type": "pyerr",
       "traceback": [
        "\u001b[0;31m---------------------------------------------------------------------------\u001b[0m\n\u001b[0;31mTypeError\u001b[0m                                 Traceback (most recent call last)",
        "\u001b[0;32m<ipython-input-37-1432fe02b301>\u001b[0m in \u001b[0;36m<module>\u001b[0;34m()\u001b[0m\n\u001b[1;32m      1\u001b[0m \u001b[0mx\u001b[0m \u001b[0;34m=\u001b[0m \u001b[0;36m2\u001b[0m\u001b[0;34m\u001b[0m\u001b[0m\n\u001b[1;32m      2\u001b[0m \u001b[0my\u001b[0m \u001b[0;34m=\u001b[0m \u001b[0;34m\"3\"\u001b[0m\u001b[0;34m\u001b[0m\u001b[0m\n\u001b[0;32m----> 3\u001b[0;31m \u001b[0;32mprint\u001b[0m\u001b[0;34m(\u001b[0m\u001b[0mx\u001b[0m\u001b[0;34m+\u001b[0m\u001b[0my\u001b[0m\u001b[0;34m)\u001b[0m\u001b[0;34m\u001b[0m\u001b[0m\n\u001b[0m",
        "\u001b[0;31mTypeError\u001b[0m: unsupported operand type(s) for +: 'int' and 'str'"
       ]
      }
     ],
     "prompt_number": 37
    },
    {
     "cell_type": "code",
     "collapsed": false,
     "input": [
      "print(type(y))\n",
      "y = int(y)\n",
      "print(type(y))\n",
      "\n",
      "print(x+y)"
     ],
     "language": "python",
     "metadata": {},
     "outputs": [
      {
       "output_type": "stream",
       "stream": "stdout",
       "text": [
        "<type 'str'>\n",
        "<type 'int'>\n",
        "5\n"
       ]
      }
     ],
     "prompt_number": 38
    },
    {
     "cell_type": "heading",
     "level": 2,
     "metadata": {},
     "source": [
      "Ejercicios:"
     ]
    },
    {
     "cell_type": "markdown",
     "metadata": {},
     "source": [
      "- Definir una variable EDAD en 50,  imprimir la edad y tipo de variable.\n",
      "- Pedir al usuario que ingrese la edad y guardarla en la variable EDAD, redefiniendola. Imprimir tipo.\n",
      "- \u00bfLa variable que ingres\u00f3 el usuario es entera? Si no, convi\u00e9rtela a entera e imprime nuevamente el tipo de variable.\n",
      "- Y no lo olvides... \u00a1No dejes de compartir tus ejercicios y las dudas que te surjan con nosotros!"
     ]
    },
    {
     "cell_type": "code",
     "collapsed": false,
     "input": [
      "texto = \"Mucho gusto, \"\n",
      "nombre = raw_input(\"\u00bfCu\u00e1l es tu nombre?\")\n",
      "\n",
      "print(type(nombre))\n",
      "print(texto+nombre)"
     ],
     "language": "python",
     "metadata": {},
     "outputs": [
      {
       "name": "stdout",
       "output_type": "stream",
       "stream": "stdout",
       "text": [
        "\u00bfCu\u00e1l es tu nombre?Rodolfo\n"
       ]
      },
      {
       "output_type": "stream",
       "stream": "stdout",
       "text": [
        "<type 'str'>\n",
        "Mucho gusto, Rodolfo\n"
       ]
      }
     ],
     "prompt_number": 1
    }
   ],
   "metadata": {}
  }
 ]
}