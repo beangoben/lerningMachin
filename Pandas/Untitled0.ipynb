{
 "metadata": {
  "name": "",
  "signature": "sha256:9051b8d655f3cfe28dfa6b9f8224ff3d591acb3afaab4e8109a5797062773e2a"
 },
 "nbformat": 3,
 "nbformat_minor": 0,
 "worksheets": []
}