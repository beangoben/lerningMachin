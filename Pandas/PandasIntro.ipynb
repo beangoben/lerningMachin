{
 "metadata": {
  "name": "",
  "signature": "sha256:346b409d54c419a5909d5218c9ea8c76f35f9af3e394d193bf3f73350c5c5363"
 },
 "nbformat": 3,
 "nbformat_minor": 0,
 "worksheets": [
  {
   "cells": [
    {
     "cell_type": "markdown",
     "metadata": {},
     "source": [
      "# Hola Pandas!\n",
      "\n",
      "## Pandas = Manejo de informacion facil!\n",
      "### Que es pandas?\n",
      "\n",
      "![alt text](http://pandas.pydata.org/_static/pandas_logo.png)\n",
      "\n",
      "Pandas es un libreria de alto rendimiento, facil de usar para manejar estructuras de datos y analizarlas.\n",
      "\n",
      "Checate mas en :\n",
      "\n",
      "* Pagina oficial : http://pandas.pydata.org/\n",
      "* Un tour de diez minutos con Pandas: http://vimeo.com/59324550\n",
      "\n",
      "Para usar pandas, solo tiene que importar el modulo ..tambien te conviene importar numpy y matplotlib..juega\n",
      "n muy bien con pandas"
     ]
    },
    {
     "cell_type": "code",
     "collapsed": false,
     "input": [
      "import pandas as pd\n",
      "import numpy as np # modulo de computo numerico\n",
      "import matplotlib.pyplot as plt # modulo de graficas\n",
      "# esta linea hace que las graficas salgan en el notebook\n",
      "%matplotlib inline"
     ],
     "language": "python",
     "metadata": {},
     "outputs": [],
     "prompt_number": 1
    },
    {
     "cell_type": "markdown",
     "metadata": {},
     "source": [
      "### Y yo para que quiero eso? De que sirve pandas?\n",
      "\n",
      "Pandas te sirve si quieres:\n",
      "\n",
      "* Trabajar con datos de manera facil.\n",
      "* Explorar un conjunto de datos de manera rapida, enterder los datos que tienes.\n",
      "* Facilmente manipular informacion, por ejemplo sacar estadisticas.\n",
      "* Graficas patrones y distribuciones de datos.\n",
      "* Trabajar con Exceles, base de datos, sin tener que suar esas herramientas.\n",
      "\n",
      "Y mucho mas...\n",
      "\n",
      "\n",
      "### El DataFrame en Pandas\n",
      "\n",
      "Una estructura de datos en Pandas se llama un DataFrame, con el manejamos todos los datos y aplicamos tranformaciones.\n",
      "\n",
      "Asi creamos un DataFrame vacio:"
     ]
    },
    {
     "cell_type": "code",
     "collapsed": false,
     "input": [
      "df= pd.DataFrame()"
     ],
     "language": "python",
     "metadata": {},
     "outputs": [],
     "prompt_number": 27
    },
    {
     "cell_type": "markdown",
     "metadata": {},
     "source": [
      "No nos sirve nada vacio, entonces agreguemos le informacion!\n",
      "### LLenando informacion con un Dataframe\n",
      "![](https://c1.staticflickr.com/1/4/5903269_4adb837fb8.jpg)\n",
      "#### Situacion:\n",
      "Suponte que eres un taquero y quieres hacer un dataframe de cuantos tacos vendes en una semana igual y para ver que tacos son mas populares y echarle mas ganas en ellos, \n",
      "#### Asumiremos:\n",
      "* Que vende tacos de Pastor, Tripa y Chorizo\n",
      "* Hay 7 dias en una semana de  Lunes a Domingo (obvio)\n",
      "* Crearemos el numero de tacos como numeros enteros aleatorios (np.random.randint)\n",
      "\n",
      "** Ojo! ** Si ponemos la variable de un dataframe al final de una celda no saldra una tabla con los datos, eah!"
     ]
    },
    {
     "cell_type": "code",
     "collapsed": false,
     "input": [
      "df['Pastor']=np.random.randint(100, size=7)\n",
      "df['Tripas']=np.random.randint(100, size=7)\n",
      "df['Chorizo']=np.random.randint(100, size=7)\n",
      "\n",
      "df.index=['Lunes','Martes','Miercoles','Jueves','Viernes','Sabado','Domingo']\n",
      "df"
     ],
     "language": "python",
     "metadata": {},
     "outputs": [
      {
       "html": [
        "<div style=\"max-height:1000px;max-width:1500px;overflow:auto;\">\n",
        "<table border=\"1\" class=\"dataframe\">\n",
        "  <thead>\n",
        "    <tr style=\"text-align: right;\">\n",
        "      <th></th>\n",
        "      <th>Pastor</th>\n",
        "      <th>Tripas</th>\n",
        "      <th>Chorizo</th>\n",
        "    </tr>\n",
        "  </thead>\n",
        "  <tbody>\n",
        "    <tr>\n",
        "      <th>Lunes</th>\n",
        "      <td> 85</td>\n",
        "      <td> 81</td>\n",
        "      <td> 16</td>\n",
        "    </tr>\n",
        "    <tr>\n",
        "      <th>Martes</th>\n",
        "      <td> 23</td>\n",
        "      <td> 38</td>\n",
        "      <td> 56</td>\n",
        "    </tr>\n",
        "    <tr>\n",
        "      <th>Miercoles</th>\n",
        "      <td> 40</td>\n",
        "      <td> 63</td>\n",
        "      <td> 57</td>\n",
        "    </tr>\n",
        "    <tr>\n",
        "      <th>Jueves</th>\n",
        "      <td>  4</td>\n",
        "      <td> 32</td>\n",
        "      <td> 41</td>\n",
        "    </tr>\n",
        "    <tr>\n",
        "      <th>Viernes</th>\n",
        "      <td> 73</td>\n",
        "      <td> 88</td>\n",
        "      <td> 77</td>\n",
        "    </tr>\n",
        "    <tr>\n",
        "      <th>Sabado</th>\n",
        "      <td> 41</td>\n",
        "      <td> 40</td>\n",
        "      <td> 91</td>\n",
        "    </tr>\n",
        "    <tr>\n",
        "      <th>Domingo</th>\n",
        "      <td> 15</td>\n",
        "      <td> 73</td>\n",
        "      <td> 74</td>\n",
        "    </tr>\n",
        "  </tbody>\n",
        "</table>\n",
        "</div>"
       ],
       "metadata": {},
       "output_type": "pyout",
       "prompt_number": 28,
       "text": [
        "           Pastor  Tripas  Chorizo\n",
        "Lunes          85      81       16\n",
        "Martes         23      38       56\n",
        "Miercoles      40      63       57\n",
        "Jueves          4      32       41\n",
        "Viernes        73      88       77\n",
        "Sabado         41      40       91\n",
        "Domingo        15      73       74"
       ]
      }
     ],
     "prompt_number": 28
    },
    {
     "cell_type": "markdown",
     "metadata": {},
     "source": [
      "### Jugando con el Dataframe!\n",
      "#### Estadisticas\n",
      "Ya con teniendo un dataframe podemos hacer muchas cosas, por ejemplo sacar estadisticas, de medias, desviaciones estandares, cuantos elementos:"
     ]
    },
    {
     "cell_type": "code",
     "collapsed": false,
     "input": [
      "df.describe()"
     ],
     "language": "python",
     "metadata": {},
     "outputs": [
      {
       "html": [
        "<div style=\"max-height:1000px;max-width:1500px;overflow:auto;\">\n",
        "<table border=\"1\" class=\"dataframe\">\n",
        "  <thead>\n",
        "    <tr style=\"text-align: right;\">\n",
        "      <th></th>\n",
        "      <th>Pastor</th>\n",
        "      <th>Tripas</th>\n",
        "      <th>Chorizo</th>\n",
        "    </tr>\n",
        "  </thead>\n",
        "  <tbody>\n",
        "    <tr>\n",
        "      <th>count</th>\n",
        "      <td>  7.000000</td>\n",
        "      <td>  7.000000</td>\n",
        "      <td>  7.000000</td>\n",
        "    </tr>\n",
        "    <tr>\n",
        "      <th>mean</th>\n",
        "      <td> 40.142857</td>\n",
        "      <td> 59.285714</td>\n",
        "      <td> 58.857143</td>\n",
        "    </tr>\n",
        "    <tr>\n",
        "      <th>std</th>\n",
        "      <td> 29.790539</td>\n",
        "      <td> 22.610575</td>\n",
        "      <td> 25.029506</td>\n",
        "    </tr>\n",
        "    <tr>\n",
        "      <th>min</th>\n",
        "      <td>  4.000000</td>\n",
        "      <td> 32.000000</td>\n",
        "      <td> 16.000000</td>\n",
        "    </tr>\n",
        "    <tr>\n",
        "      <th>25%</th>\n",
        "      <td> 19.000000</td>\n",
        "      <td> 39.000000</td>\n",
        "      <td> 48.500000</td>\n",
        "    </tr>\n",
        "    <tr>\n",
        "      <th>50%</th>\n",
        "      <td> 40.000000</td>\n",
        "      <td> 63.000000</td>\n",
        "      <td> 57.000000</td>\n",
        "    </tr>\n",
        "    <tr>\n",
        "      <th>75%</th>\n",
        "      <td> 57.000000</td>\n",
        "      <td> 77.000000</td>\n",
        "      <td> 75.500000</td>\n",
        "    </tr>\n",
        "    <tr>\n",
        "      <th>max</th>\n",
        "      <td> 85.000000</td>\n",
        "      <td> 88.000000</td>\n",
        "      <td> 91.000000</td>\n",
        "    </tr>\n",
        "  </tbody>\n",
        "</table>\n",
        "</div>"
       ],
       "metadata": {},
       "output_type": "pyout",
       "prompt_number": 29,
       "text": [
        "          Pastor     Tripas    Chorizo\n",
        "count   7.000000   7.000000   7.000000\n",
        "mean   40.142857  59.285714  58.857143\n",
        "std    29.790539  22.610575  25.029506\n",
        "min     4.000000  32.000000  16.000000\n",
        "25%    19.000000  39.000000  48.500000\n",
        "50%    40.000000  63.000000  57.000000\n",
        "75%    57.000000  77.000000  75.500000\n",
        "max    85.000000  88.000000  91.000000"
       ]
      }
     ],
     "prompt_number": 29
    },
    {
     "cell_type": "markdown",
     "metadata": {},
     "source": [
      "pero talvez solo queramos estadisticas de Pastor, entonces seria:"
     ]
    },
    {
     "cell_type": "code",
     "collapsed": false,
     "input": [
      "df['Pastor'].describe()"
     ],
     "language": "python",
     "metadata": {},
     "outputs": [
      {
       "metadata": {},
       "output_type": "pyout",
       "prompt_number": 30,
       "text": [
        "count     7.000000\n",
        "mean     40.142857\n",
        "std      29.790539\n",
        "min       4.000000\n",
        "25%      19.000000\n",
        "50%      40.000000\n",
        "75%      57.000000\n",
        "max      85.000000\n",
        "Name: Pastor, dtype: float64"
       ]
      }
     ],
     "prompt_number": 30
    },
    {
     "cell_type": "markdown",
     "metadata": {},
     "source": [
      "o talvez solo nos interese del Lunes:\n",
      "\n",
      "** Ojo! ** Tenemos que usar *.ix* para seleccionar un renglon"
     ]
    },
    {
     "cell_type": "code",
     "collapsed": false,
     "input": [
      "df.ix['Lunes']"
     ],
     "language": "python",
     "metadata": {},
     "outputs": [
      {
       "metadata": {},
       "output_type": "pyout",
       "prompt_number": 31,
       "text": [
        "Pastor     85\n",
        "Tripas     81\n",
        "Chorizo    16\n",
        "Name: Lunes, dtype: int64"
       ]
      }
     ],
     "prompt_number": 31
    },
    {
     "cell_type": "markdown",
     "metadata": {},
     "source": [
      "#### Grafica de cajas 'Boxplot'\n",
      "\n",
      "Un boxplot nos da mucha informacion:\n",
      "* Cada caja esta centrada en la mediana\n",
      "* Tiene de alto la desviacion estandar entonces nos dice donde se encuentra el 60% de los datos.\n",
      "* Tiene los minimos y maximos de cada dato."
     ]
    },
    {
     "cell_type": "code",
     "collapsed": false,
     "input": [
      "df.boxplot()\n",
      "print(\"== Boxplot ==\")"
     ],
     "language": "python",
     "metadata": {},
     "outputs": [
      {
       "output_type": "stream",
       "stream": "stdout",
       "text": [
        "== Boxplot ==\n"
       ]
      },
      {
       "metadata": {},
       "output_type": "display_data",
       "png": "[encoded data removed]",
       "text": [
        "<matplotlib.figure.Figure at 0x11b5d8450>"
       ]
      }
     ],
     "prompt_number": 32
    },
    {
     "cell_type": "markdown",
     "metadata": {},
     "source": [
      "#### Combinando columnas\n",
      "Que tal si queremos saber cuantos tacos vendimos en total?\n",
      "Pues solamente sumamos las columnas:"
     ]
    },
    {
     "cell_type": "code",
     "collapsed": false,
     "input": [
      "df['Tacos Total']=df['Pastor']+df['Tripas']\n",
      "df"
     ],
     "language": "python",
     "metadata": {},
     "outputs": [
      {
       "html": [
        "<div style=\"max-height:1000px;max-width:1500px;overflow:auto;\">\n",
        "<table border=\"1\" class=\"dataframe\">\n",
        "  <thead>\n",
        "    <tr style=\"text-align: right;\">\n",
        "      <th></th>\n",
        "      <th>Pastor</th>\n",
        "      <th>Tripas</th>\n",
        "      <th>Chorizo</th>\n",
        "      <th>Tacos Total</th>\n",
        "    </tr>\n",
        "  </thead>\n",
        "  <tbody>\n",
        "    <tr>\n",
        "      <th>Lunes</th>\n",
        "      <td> 85</td>\n",
        "      <td> 81</td>\n",
        "      <td> 16</td>\n",
        "      <td> 166</td>\n",
        "    </tr>\n",
        "    <tr>\n",
        "      <th>Martes</th>\n",
        "      <td> 23</td>\n",
        "      <td> 38</td>\n",
        "      <td> 56</td>\n",
        "      <td>  61</td>\n",
        "    </tr>\n",
        "    <tr>\n",
        "      <th>Miercoles</th>\n",
        "      <td> 40</td>\n",
        "      <td> 63</td>\n",
        "      <td> 57</td>\n",
        "      <td> 103</td>\n",
        "    </tr>\n",
        "    <tr>\n",
        "      <th>Jueves</th>\n",
        "      <td>  4</td>\n",
        "      <td> 32</td>\n",
        "      <td> 41</td>\n",
        "      <td>  36</td>\n",
        "    </tr>\n",
        "    <tr>\n",
        "      <th>Viernes</th>\n",
        "      <td> 73</td>\n",
        "      <td> 88</td>\n",
        "      <td> 77</td>\n",
        "      <td> 161</td>\n",
        "    </tr>\n",
        "    <tr>\n",
        "      <th>Sabado</th>\n",
        "      <td> 41</td>\n",
        "      <td> 40</td>\n",
        "      <td> 91</td>\n",
        "      <td>  81</td>\n",
        "    </tr>\n",
        "    <tr>\n",
        "      <th>Domingo</th>\n",
        "      <td> 15</td>\n",
        "      <td> 73</td>\n",
        "      <td> 74</td>\n",
        "      <td>  88</td>\n",
        "    </tr>\n",
        "  </tbody>\n",
        "</table>\n",
        "</div>"
       ],
       "metadata": {},
       "output_type": "pyout",
       "prompt_number": 33,
       "text": [
        "           Pastor  Tripas  Chorizo  Tacos Total\n",
        "Lunes          85      81       16          166\n",
        "Martes         23      38       56           61\n",
        "Miercoles      40      63       57          103\n",
        "Jueves          4      32       41           36\n",
        "Viernes        73      88       77          161\n",
        "Sabado         41      40       91           81\n",
        "Domingo        15      73       74           88"
       ]
      }
     ],
     "prompt_number": 33
    },
    {
     "cell_type": "markdown",
     "metadata": {},
     "source": [
      "#### Borrando columnas\n",
      "Aveces simplemente queremos reducir el numero de datos, entonces podemos usar el drop:"
     ]
    },
    {
     "cell_type": "code",
     "collapsed": false,
     "input": [
      "df=df.drop(\"Tripas\",axis=1)\n",
      "df"
     ],
     "language": "python",
     "metadata": {},
     "outputs": [
      {
       "html": [
        "<div style=\"max-height:1000px;max-width:1500px;overflow:auto;\">\n",
        "<table border=\"1\" class=\"dataframe\">\n",
        "  <thead>\n",
        "    <tr style=\"text-align: right;\">\n",
        "      <th></th>\n",
        "      <th>Pastor</th>\n",
        "      <th>Chorizo</th>\n",
        "      <th>Tacos Total</th>\n",
        "    </tr>\n",
        "  </thead>\n",
        "  <tbody>\n",
        "    <tr>\n",
        "      <th>Lunes</th>\n",
        "      <td> 85</td>\n",
        "      <td> 16</td>\n",
        "      <td> 166</td>\n",
        "    </tr>\n",
        "    <tr>\n",
        "      <th>Martes</th>\n",
        "      <td> 23</td>\n",
        "      <td> 56</td>\n",
        "      <td>  61</td>\n",
        "    </tr>\n",
        "    <tr>\n",
        "      <th>Miercoles</th>\n",
        "      <td> 40</td>\n",
        "      <td> 57</td>\n",
        "      <td> 103</td>\n",
        "    </tr>\n",
        "    <tr>\n",
        "      <th>Jueves</th>\n",
        "      <td>  4</td>\n",
        "      <td> 41</td>\n",
        "      <td>  36</td>\n",
        "    </tr>\n",
        "    <tr>\n",
        "      <th>Viernes</th>\n",
        "      <td> 73</td>\n",
        "      <td> 77</td>\n",
        "      <td> 161</td>\n",
        "    </tr>\n",
        "    <tr>\n",
        "      <th>Sabado</th>\n",
        "      <td> 41</td>\n",
        "      <td> 91</td>\n",
        "      <td>  81</td>\n",
        "    </tr>\n",
        "    <tr>\n",
        "      <th>Domingo</th>\n",
        "      <td> 15</td>\n",
        "      <td> 74</td>\n",
        "      <td>  88</td>\n",
        "    </tr>\n",
        "  </tbody>\n",
        "</table>\n",
        "</div>"
       ],
       "metadata": {},
       "output_type": "pyout",
       "prompt_number": 34,
       "text": [
        "           Pastor  Chorizo  Tacos Total\n",
        "Lunes          85       16          166\n",
        "Martes         23       56           61\n",
        "Miercoles      40       57          103\n",
        "Jueves          4       41           36\n",
        "Viernes        73       77          161\n",
        "Sabado         41       91           81\n",
        "Domingo        15       74           88"
       ]
      }
     ],
     "prompt_number": 34
    },
    {
     "cell_type": "markdown",
     "metadata": {},
     "source": [
      "#### Exportando a otro formato\n",
      "\n",
      "Aveces queremos guardar nuestros datos (excel, csv, sql database, pickle, json) , por ejemplo a un excel:"
     ]
    },
    {
     "cell_type": "code",
     "collapsed": false,
     "input": [
      "df.to_excel(\"Tacos.xlsx\")"
     ],
     "language": "python",
     "metadata": {},
     "outputs": []
    },
    {
     "cell_type": "markdown",
     "metadata": {},
     "source": [
      "#### Leyendo un DataFrame de otro formato\n",
      "\n",
      "O alrevez, queremos crear un dataframe apartir de un archivo:"
     ]
    },
    {
     "cell_type": "code",
     "collapsed": false,
     "input": [
      "df=pd.from_excel(\"Tacos.xlsx\")"
     ],
     "language": "python",
     "metadata": {},
     "outputs": []
    },
    {
     "cell_type": "markdown",
     "metadata": {},
     "source": [
      "## Bases de datos en el internet\n",
      "\n",
      "Aveces los datos que queremos se encuentran en el internet. Asumiendo que se encuentran ordenados y en un formato amigable siempre los podemos bajar y guardar como un DataFrame.\n",
      "\n",
      "#### Por ejemplo:\n",
      "\n",
      "Gapminder es una pagina con mas de 500 conjunto de daatos relacionado a indicadores globales como ingresos, producto interno bruto (PIB=GDP) y esperanza de vida.\n",
      "\n",
      "Aqui bajamos la base de datos de esperanza de vida, lo guardamos en memoria y lo lodeamos como un excel:\n",
      "\n",
      "**Ojo!** Aqui usamos *.head()* para imprimir los primeros 5 renglones del dataframe pues son gigantescos los datos."
     ]
    },
    {
     "cell_type": "code",
     "collapsed": false,
     "input": [
      "xurl=\"http://spreadsheets.google.com/pub?key=phAwcNAVuyj2tPLxKvvnNPA&output=xls\"\n",
      "df=pd.read_excel(xurl)\n",
      "print(\"Tamano completo es %s\"%str(df.shape))\n",
      "df.head()"
     ],
     "language": "python",
     "metadata": {},
     "outputs": [
      {
       "output_type": "stream",
       "stream": "stdout",
       "text": [
        "Tamano completo es (244, 215)\n"
       ]
      },
      {
       "html": [
        "<div style=\"max-height:1000px;max-width:1500px;overflow:auto;\">\n",
        "<table border=\"1\" class=\"dataframe\">\n",
        "  <thead>\n",
        "    <tr style=\"text-align: right;\">\n",
        "      <th></th>\n",
        "      <th>Life expectancy at birth</th>\n",
        "      <th>1800</th>\n",
        "      <th>1801</th>\n",
        "      <th>1802</th>\n",
        "      <th>1803</th>\n",
        "      <th>1804</th>\n",
        "      <th>1805</th>\n",
        "      <th>1806</th>\n",
        "      <th>1807</th>\n",
        "      <th>1808</th>\n",
        "      <th>...</th>\n",
        "      <th>2004</th>\n",
        "      <th>2005</th>\n",
        "      <th>2006</th>\n",
        "      <th>2007</th>\n",
        "      <th>2008</th>\n",
        "      <th>2009</th>\n",
        "      <th>2010</th>\n",
        "      <th>2011</th>\n",
        "      <th>2012</th>\n",
        "      <th>2013</th>\n",
        "    </tr>\n",
        "  </thead>\n",
        "  <tbody>\n",
        "    <tr>\n",
        "      <th>0</th>\n",
        "      <td>    Afghanistan</td>\n",
        "      <td> 28.2110</td>\n",
        "      <td> 28.200753</td>\n",
        "      <td> 28.190507</td>\n",
        "      <td> 28.18026</td>\n",
        "      <td> 28.170013</td>\n",
        "      <td> 28.159767</td>\n",
        "      <td> 28.14952</td>\n",
        "      <td> 28.139273</td>\n",
        "      <td> 28.129027</td>\n",
        "      <td>...</td>\n",
        "      <td> 56.583</td>\n",
        "      <td> 57.071</td>\n",
        "      <td> 57.582</td>\n",
        "      <td> 58.102</td>\n",
        "      <td> 58.618</td>\n",
        "      <td> 59.124</td>\n",
        "      <td> 59.612</td>\n",
        "      <td> 60.079</td>\n",
        "      <td> 60.524</td>\n",
        "      <td> 60.947</td>\n",
        "    </tr>\n",
        "    <tr>\n",
        "      <th>1</th>\n",
        "      <td>        Albania</td>\n",
        "      <td> 35.4000</td>\n",
        "      <td> 35.400000</td>\n",
        "      <td> 35.400000</td>\n",
        "      <td> 35.40000</td>\n",
        "      <td> 35.400000</td>\n",
        "      <td> 35.400000</td>\n",
        "      <td> 35.40000</td>\n",
        "      <td> 35.400000</td>\n",
        "      <td> 35.400000</td>\n",
        "      <td>...</td>\n",
        "      <td> 75.725</td>\n",
        "      <td> 75.949</td>\n",
        "      <td> 76.124</td>\n",
        "      <td> 76.278</td>\n",
        "      <td> 76.433</td>\n",
        "      <td> 76.598</td>\n",
        "      <td> 76.780</td>\n",
        "      <td> 76.979</td>\n",
        "      <td> 77.185</td>\n",
        "      <td> 77.392</td>\n",
        "    </tr>\n",
        "    <tr>\n",
        "      <th>2</th>\n",
        "      <td>        Algeria</td>\n",
        "      <td> 28.8224</td>\n",
        "      <td> 28.822400</td>\n",
        "      <td> 28.822400</td>\n",
        "      <td> 28.82240</td>\n",
        "      <td> 28.822400</td>\n",
        "      <td> 28.822400</td>\n",
        "      <td> 28.82240</td>\n",
        "      <td> 28.822400</td>\n",
        "      <td> 28.822400</td>\n",
        "      <td>...</td>\n",
        "      <td> 69.682</td>\n",
        "      <td> 69.854</td>\n",
        "      <td> 70.020</td>\n",
        "      <td> 70.180</td>\n",
        "      <td> 70.332</td>\n",
        "      <td> 70.477</td>\n",
        "      <td> 70.615</td>\n",
        "      <td> 70.747</td>\n",
        "      <td> 70.874</td>\n",
        "      <td> 71.000</td>\n",
        "    </tr>\n",
        "    <tr>\n",
        "      <th>3</th>\n",
        "      <td> American Samoa</td>\n",
        "      <td>     NaN</td>\n",
        "      <td>       NaN</td>\n",
        "      <td>       NaN</td>\n",
        "      <td>      NaN</td>\n",
        "      <td>       NaN</td>\n",
        "      <td>       NaN</td>\n",
        "      <td>      NaN</td>\n",
        "      <td>       NaN</td>\n",
        "      <td>       NaN</td>\n",
        "      <td>...</td>\n",
        "      <td>    NaN</td>\n",
        "      <td>    NaN</td>\n",
        "      <td>    NaN</td>\n",
        "      <td>    NaN</td>\n",
        "      <td>    NaN</td>\n",
        "      <td>    NaN</td>\n",
        "      <td>    NaN</td>\n",
        "      <td>    NaN</td>\n",
        "      <td>    NaN</td>\n",
        "      <td>    NaN</td>\n",
        "    </tr>\n",
        "    <tr>\n",
        "      <th>4</th>\n",
        "      <td>        Andorra</td>\n",
        "      <td>     NaN</td>\n",
        "      <td>       NaN</td>\n",
        "      <td>       NaN</td>\n",
        "      <td>      NaN</td>\n",
        "      <td>       NaN</td>\n",
        "      <td>       NaN</td>\n",
        "      <td>      NaN</td>\n",
        "      <td>       NaN</td>\n",
        "      <td>       NaN</td>\n",
        "      <td>...</td>\n",
        "      <td>    NaN</td>\n",
        "      <td>    NaN</td>\n",
        "      <td>    NaN</td>\n",
        "      <td>    NaN</td>\n",
        "      <td>    NaN</td>\n",
        "      <td>    NaN</td>\n",
        "      <td>    NaN</td>\n",
        "      <td>    NaN</td>\n",
        "      <td>    NaN</td>\n",
        "      <td>    NaN</td>\n",
        "    </tr>\n",
        "  </tbody>\n",
        "</table>\n",
        "<p>5 rows \u00d7 215 columns</p>\n",
        "</div>"
       ],
       "metadata": {},
       "output_type": "pyout",
       "prompt_number": 2,
       "text": [
        "  Life expectancy at birth     1800       1801       1802      1803  \\\n",
        "0              Afghanistan  28.2110  28.200753  28.190507  28.18026   \n",
        "1                  Albania  35.4000  35.400000  35.400000  35.40000   \n",
        "2                  Algeria  28.8224  28.822400  28.822400  28.82240   \n",
        "3           American Samoa      NaN        NaN        NaN       NaN   \n",
        "4                  Andorra      NaN        NaN        NaN       NaN   \n",
        "\n",
        "        1804       1805      1806       1807       1808   ...      2004  \\\n",
        "0  28.170013  28.159767  28.14952  28.139273  28.129027   ...    56.583   \n",
        "1  35.400000  35.400000  35.40000  35.400000  35.400000   ...    75.725   \n",
        "2  28.822400  28.822400  28.82240  28.822400  28.822400   ...    69.682   \n",
        "3        NaN        NaN       NaN        NaN        NaN   ...       NaN   \n",
        "4        NaN        NaN       NaN        NaN        NaN   ...       NaN   \n",
        "\n",
        "     2005    2006    2007    2008    2009    2010    2011    2012    2013  \n",
        "0  57.071  57.582  58.102  58.618  59.124  59.612  60.079  60.524  60.947  \n",
        "1  75.949  76.124  76.278  76.433  76.598  76.780  76.979  77.185  77.392  \n",
        "2  69.854  70.020  70.180  70.332  70.477  70.615  70.747  70.874  71.000  \n",
        "3     NaN     NaN     NaN     NaN     NaN     NaN     NaN     NaN     NaN  \n",
        "4     NaN     NaN     NaN     NaN     NaN     NaN     NaN     NaN     NaN  \n",
        "\n",
        "[5 rows x 215 columns]"
       ]
      }
     ],
     "prompt_number": 2
    },
    {
     "cell_type": "markdown",
     "metadata": {},
     "source": [
      "## Arreglando los Datos\n",
      "Head nos permite darle un vistazo a los datos... asi a puro ojo vemos que las columnas son anios y los renglones los paises...ponder reversar esto con **transpose**, pero tambien vemos que esta con indices enumerados, prefeririamos que los indices fueran los paises, entonces los cambiamos y tiramos la columna que ya no sirve...al final un head para ver que todo esta bien... a este juego de limpiar y arreglar datos se llama *\"Data Wrangling\"*"
     ]
    },
    {
     "cell_type": "code",
     "collapsed": false,
     "input": [
      "df.index=df['Life expectancy at birth']\n",
      "df=df.drop('Life expectancy at birth',axis=1)\n",
      "df=df.transpose()\n",
      "df.head()"
     ],
     "language": "python",
     "metadata": {},
     "outputs": [
      {
       "html": [
        "<div style=\"max-height:1000px;max-width:1500px;overflow:auto;\">\n",
        "<table border=\"1\" class=\"dataframe\">\n",
        "  <thead>\n",
        "    <tr style=\"text-align: right;\">\n",
        "      <th>Life expectancy at birth</th>\n",
        "      <th>Afghanistan</th>\n",
        "      <th>Albania</th>\n",
        "      <th>Algeria</th>\n",
        "      <th>American Samoa</th>\n",
        "      <th>Andorra</th>\n",
        "      <th>Angola</th>\n",
        "      <th>Anguilla</th>\n",
        "      <th>Antigua and Barbuda</th>\n",
        "      <th>Argentina</th>\n",
        "      <th>Armenia</th>\n",
        "      <th>...</th>\n",
        "      <th>Vanuatu</th>\n",
        "      <th>Venezuela</th>\n",
        "      <th>West Bank and Gaza</th>\n",
        "      <th>Western Sahara</th>\n",
        "      <th>Vietnam</th>\n",
        "      <th>Virgin Islands (U.S.)</th>\n",
        "      <th>Yemen, Rep.</th>\n",
        "      <th>Zambia</th>\n",
        "      <th>Zimbabwe</th>\n",
        "      <th>\u00c5land</th>\n",
        "    </tr>\n",
        "  </thead>\n",
        "  <tbody>\n",
        "    <tr>\n",
        "      <th>1800</th>\n",
        "      <td> 28.211000</td>\n",
        "      <td> 35.4</td>\n",
        "      <td> 28.8224</td>\n",
        "      <td>NaN</td>\n",
        "      <td>NaN</td>\n",
        "      <td> 26.98</td>\n",
        "      <td>NaN</td>\n",
        "      <td> 33.536</td>\n",
        "      <td> 33.2</td>\n",
        "      <td> 33.995</td>\n",
        "      <td>...</td>\n",
        "      <td> 24.3</td>\n",
        "      <td> 32.2</td>\n",
        "      <td> 32.1</td>\n",
        "      <td> 34.753</td>\n",
        "      <td> 32</td>\n",
        "      <td> 33.403</td>\n",
        "      <td> 23.387</td>\n",
        "      <td> 32.6</td>\n",
        "      <td> 33.7</td>\n",
        "      <td>NaN</td>\n",
        "    </tr>\n",
        "    <tr>\n",
        "      <th>1801</th>\n",
        "      <td> 28.200753</td>\n",
        "      <td> 35.4</td>\n",
        "      <td> 28.8224</td>\n",
        "      <td>NaN</td>\n",
        "      <td>NaN</td>\n",
        "      <td> 26.98</td>\n",
        "      <td>NaN</td>\n",
        "      <td> 33.536</td>\n",
        "      <td> 33.2</td>\n",
        "      <td> 33.995</td>\n",
        "      <td>...</td>\n",
        "      <td> 24.3</td>\n",
        "      <td> 32.2</td>\n",
        "      <td> 32.1</td>\n",
        "      <td> 34.753</td>\n",
        "      <td> 32</td>\n",
        "      <td> 33.403</td>\n",
        "      <td> 23.387</td>\n",
        "      <td> 32.6</td>\n",
        "      <td> 33.7</td>\n",
        "      <td>NaN</td>\n",
        "    </tr>\n",
        "    <tr>\n",
        "      <th>1802</th>\n",
        "      <td> 28.190507</td>\n",
        "      <td> 35.4</td>\n",
        "      <td> 28.8224</td>\n",
        "      <td>NaN</td>\n",
        "      <td>NaN</td>\n",
        "      <td> 26.98</td>\n",
        "      <td>NaN</td>\n",
        "      <td> 33.536</td>\n",
        "      <td> 33.2</td>\n",
        "      <td> 33.995</td>\n",
        "      <td>...</td>\n",
        "      <td> 24.3</td>\n",
        "      <td> 32.2</td>\n",
        "      <td> 32.1</td>\n",
        "      <td> 34.753</td>\n",
        "      <td> 32</td>\n",
        "      <td> 33.403</td>\n",
        "      <td> 23.387</td>\n",
        "      <td> 32.6</td>\n",
        "      <td> 33.7</td>\n",
        "      <td>NaN</td>\n",
        "    </tr>\n",
        "    <tr>\n",
        "      <th>1803</th>\n",
        "      <td> 28.180260</td>\n",
        "      <td> 35.4</td>\n",
        "      <td> 28.8224</td>\n",
        "      <td>NaN</td>\n",
        "      <td>NaN</td>\n",
        "      <td> 26.98</td>\n",
        "      <td>NaN</td>\n",
        "      <td> 33.536</td>\n",
        "      <td> 33.2</td>\n",
        "      <td> 33.995</td>\n",
        "      <td>...</td>\n",
        "      <td> 24.3</td>\n",
        "      <td> 32.2</td>\n",
        "      <td> 32.1</td>\n",
        "      <td> 34.753</td>\n",
        "      <td> 32</td>\n",
        "      <td> 33.403</td>\n",
        "      <td> 23.387</td>\n",
        "      <td> 32.6</td>\n",
        "      <td> 33.7</td>\n",
        "      <td>NaN</td>\n",
        "    </tr>\n",
        "    <tr>\n",
        "      <th>1804</th>\n",
        "      <td> 28.170013</td>\n",
        "      <td> 35.4</td>\n",
        "      <td> 28.8224</td>\n",
        "      <td>NaN</td>\n",
        "      <td>NaN</td>\n",
        "      <td> 26.98</td>\n",
        "      <td>NaN</td>\n",
        "      <td> 33.536</td>\n",
        "      <td> 33.2</td>\n",
        "      <td> 33.995</td>\n",
        "      <td>...</td>\n",
        "      <td> 24.3</td>\n",
        "      <td> 32.2</td>\n",
        "      <td> 32.1</td>\n",
        "      <td> 34.753</td>\n",
        "      <td> 32</td>\n",
        "      <td> 33.403</td>\n",
        "      <td> 23.387</td>\n",
        "      <td> 32.6</td>\n",
        "      <td> 33.7</td>\n",
        "      <td>NaN</td>\n",
        "    </tr>\n",
        "  </tbody>\n",
        "</table>\n",
        "<p>5 rows \u00d7 244 columns</p>\n",
        "</div>"
       ],
       "metadata": {},
       "output_type": "pyout",
       "prompt_number": 3,
       "text": [
        "Life expectancy at birth  Afghanistan  Albania  Algeria  American Samoa  \\\n",
        "1800                        28.211000     35.4  28.8224             NaN   \n",
        "1801                        28.200753     35.4  28.8224             NaN   \n",
        "1802                        28.190507     35.4  28.8224             NaN   \n",
        "1803                        28.180260     35.4  28.8224             NaN   \n",
        "1804                        28.170013     35.4  28.8224             NaN   \n",
        "\n",
        "Life expectancy at birth  Andorra  Angola  Anguilla  Antigua and Barbuda  \\\n",
        "1800                          NaN   26.98       NaN               33.536   \n",
        "1801                          NaN   26.98       NaN               33.536   \n",
        "1802                          NaN   26.98       NaN               33.536   \n",
        "1803                          NaN   26.98       NaN               33.536   \n",
        "1804                          NaN   26.98       NaN               33.536   \n",
        "\n",
        "Life expectancy at birth  Argentina  Armenia  ...    Vanuatu  Venezuela  \\\n",
        "1800                           33.2   33.995  ...       24.3       32.2   \n",
        "1801                           33.2   33.995  ...       24.3       32.2   \n",
        "1802                           33.2   33.995  ...       24.3       32.2   \n",
        "1803                           33.2   33.995  ...       24.3       32.2   \n",
        "1804                           33.2   33.995  ...       24.3       32.2   \n",
        "\n",
        "Life expectancy at birth  West Bank and Gaza  Western Sahara  Vietnam  \\\n",
        "1800                                    32.1          34.753       32   \n",
        "1801                                    32.1          34.753       32   \n",
        "1802                                    32.1          34.753       32   \n",
        "1803                                    32.1          34.753       32   \n",
        "1804                                    32.1          34.753       32   \n",
        "\n",
        "Life expectancy at birth  Virgin Islands (U.S.)  Yemen, Rep.  Zambia  \\\n",
        "1800                                     33.403       23.387    32.6   \n",
        "1801                                     33.403       23.387    32.6   \n",
        "1802                                     33.403       23.387    32.6   \n",
        "1803                                     33.403       23.387    32.6   \n",
        "1804                                     33.403       23.387    32.6   \n",
        "\n",
        "Life expectancy at birth  Zimbabwe  \u00c5land  \n",
        "1800                          33.7    NaN  \n",
        "1801                          33.7    NaN  \n",
        "1802                          33.7    NaN  \n",
        "1803                          33.7    NaN  \n",
        "1804                          33.7    NaN  \n",
        "\n",
        "[5 rows x 244 columns]"
       ]
      }
     ],
     "prompt_number": 3
    },
    {
     "cell_type": "markdown",
     "metadata": {},
     "source": [
      "Entonces ahora podemos ver la calidad de vida en Mexico atravez del tiempo:"
     ]
    },
    {
     "cell_type": "code",
     "collapsed": false,
     "input": [
      "df['Mexico'].plot()\n",
      "print(\"== Esperanza de Vida en Mexico ==\")"
     ],
     "language": "python",
     "metadata": {},
     "outputs": [
      {
       "output_type": "stream",
       "stream": "stdout",
       "text": [
        "== Esperanza de Vida en Mexico ==\n"
       ]
      },
      {
       "metadata": {},
       "output_type": "display_data",
       "png": "[encoded data removed]",
       "text": [
        "<matplotlib.figure.Figure at 0x110d1f9d0>"
       ]
      }
     ],
     "prompt_number": 5
    },
    {
     "cell_type": "markdown",
     "metadata": {},
     "source": [
      "de esta visualizacion vemos que la caldiad ha ido subiendo apartir de 1900, ademas vemos mucho movimiento entre 1890 y 1950, justo cuando habia muchas guerras en Mexico.\n",
      "\n",
      "Tambien podemos seleccionar un rango selecto de a\u00f1os, vemos que este rango es interesante entonces"
     ]
    },
    {
     "cell_type": "code",
     "collapsed": false,
     "input": [
      "subdf=df[ df.index >= 1890 ]\n",
      "subdf=subdf[ subdf.index <= 1955 ]\n",
      "subdf['Mexico'].plot()\n",
      "print(\"== Esperanza de Vida en Mexico entre 1890 y 1955 ==\")"
     ],
     "language": "python",
     "metadata": {},
     "outputs": [
      {
       "output_type": "stream",
       "stream": "stdout",
       "text": [
        "== Esperanza de Vida en Mexico entre 1890 y 1955 ==\n"
       ]
      },
      {
       "metadata": {},
       "output_type": "display_data",
       "png": "[encoded data removed]",
       "text": [
        "<matplotlib.figure.Figure at 0x111d5a390>"
       ]
      }
     ],
     "prompt_number": 16
    },
    {
     "cell_type": "markdown",
     "metadata": {},
     "source": [
      "Tambien es importante ver como esto se compara con otros paises, podemos comparar con Norteamerica:"
     ]
    },
    {
     "cell_type": "code",
     "collapsed": false,
     "input": [
      "df[['Mexico','United States','Canada']].plot()\n",
      "print(\"== Esperanza de Vida en Norte-America ==\")"
     ],
     "language": "python",
     "metadata": {},
     "outputs": [
      {
       "output_type": "stream",
       "stream": "stdout",
       "text": [
        "== Esperanza de Vida en Norte-America ==\n"
       ]
      },
      {
       "metadata": {},
       "output_type": "display_data",
       "png": "[encoded data removed]",
       "text": [
        "<matplotlib.figure.Figure at 0x112068590>"
       ]
      }
     ],
     "prompt_number": 18
    },
    {
     "cell_type": "markdown",
     "metadata": {},
     "source": [
      "## Ejercicios:\n",
      "\n",
      "* Compara la esperanza de vida en Latino America (o al menos algunos paises de ella).\n",
      "* Solo grafica los a\u00f1os entre 1900 y 2000, tambien 2000-2014.\n",
      "* Quita los paises que tienen valores 'Nan', checa la funcion **.dropna()**.\n",
      "* Saca estadisticas para paises Latino Americanos.\n",
      "* Lo mismo de arriba para diferentes periodos 1800-1900, 1900-2000, 2000-2014"
     ]
    },
    {
     "cell_type": "code",
     "collapsed": false,
     "input": [],
     "language": "python",
     "metadata": {},
     "outputs": []
    }
   ],
   "metadata": {}
  }
 ]
}