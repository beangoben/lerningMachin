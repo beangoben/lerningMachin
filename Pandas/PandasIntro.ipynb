{
 "metadata": {
  "name": "",
  "signature": "sha256:9af933e3419c7df640a8b746c491900c1ef78cd9d0a773e73e61892a6c809755"
 },
 "nbformat": 3,
 "nbformat_minor": 0,
 "worksheets": [
  {
   "cells": [
    {
     "cell_type": "markdown",
     "metadata": {},
     "source": [
      "# Hola Pandas!\n",
      "\n",
      "## Pandas = Manejo de informacion facil!\n",
      "### Que es pandas?\n",
      "\n",
      "![alt text](http://pandas.pydata.org/_static/pandas_logo.png)\n",
      "\n",
      "Pandas es un libreria de alto rendimiento, facil de usar para manejar estructuras de datos y analizarlas.\n",
      "\n",
      "Checate mas en :\n",
      "\n",
      "* Pagina oficial : http://pandas.pydata.org/\n",
      "* Un tour de diez minutos con Pandas: http://vimeo.com/59324550\n",
      "\n",
      "Para usar pandas, solo tiene que importar el modulo ..tambien te conviene importar numpy y matplotlib..juegan muy bien con pandas"
     ]
    },
    {
     "cell_type": "code",
     "collapsed": false,
     "input": [
      "import pandas as pd\n",
      "import numpy as np # modulo de computo numerico\n",
      "import matplotlib.pyplot as plt # modulo de graficas"
     ],
     "language": "python",
     "metadata": {},
     "outputs": [],
     "prompt_number": 8
    },
    {
     "cell_type": "markdown",
     "metadata": {},
     "source": [
      "### Y yo para que quiero eso? De que sirve pandas?\n",
      "\n",
      "Pandas te sirve si quieres:\n",
      "\n",
      "* Trabajar con datos de manera facil.\n",
      "* Explorar un conjunto de datos de manera rapida, enterder los datos que tienes.\n",
      "* Facilmente manipular informacion, por ejemplo sacar estadisticas.\n",
      "* Graficas patrones y distribuciones de datos.\n",
      "* Trabajar con Exceles, base de datos, sin tener que suar esas herramientas.\n",
      "\n",
      "Y mucho mas...\n",
      "\n",
      "\n",
      "### El DataFrame en Pandas\n",
      "\n",
      "Una estructura de datos en Pandas se llama un DataFrame, con el manejamos todos los datos y aplicamos tranformaciones.\n",
      "\n",
      "Asi creamos un DataFrame vacio:"
     ]
    },
    {
     "cell_type": "code",
     "collapsed": false,
     "input": [
      "df= pd.DataFrame()"
     ],
     "language": "python",
     "metadata": {},
     "outputs": [],
     "prompt_number": 12
    },
    {
     "cell_type": "markdown",
     "metadata": {},
     "source": [
      "No nos sirve nada vacio, entonces agreguemos le informacion!\n",
      "### LLenando informacion con un Dataframe\n",
      "![](https://c1.staticflickr.com/1/4/5903269_4adb837fb8.jpg)\n",
      "#### Situacion:\n",
      "Suponte que eres un taquero y quieres hacer un dataframe de cuantos tacos vendes en una semana igual y para ver que tacos son mas populares y echarle mas ganas en ellos, \n",
      "#### Asumiremos:\n",
      "* Que vende tacos Pastor y de Tripa\n",
      "* Hay 7 dias en una semana, 0 Lunes, 7 es Domingo\n",
      "* Crearemos el numero de tacos como numeros enteros aleatorios (np.random.randint)\n",
      "\n",
      "** Ojo! ** Si ponemos la variable de un dataframe al final de una celda no saldra una tabla con los datos, eah!"
     ]
    },
    {
     "cell_type": "code",
     "collapsed": false,
     "input": [
      "df['Pastor']=np.random.randint(100, size=7)\n",
      "df['Tripas']=np.random.randint(100, size=7)\n",
      "df"
     ],
     "language": "python",
     "metadata": {},
     "outputs": [
      {
       "html": [
        "<div style=\"max-height:1000px;max-width:1500px;overflow:auto;\">\n",
        "<table border=\"1\" class=\"dataframe\">\n",
        "  <thead>\n",
        "    <tr style=\"text-align: right;\">\n",
        "      <th></th>\n",
        "      <th>Pastor</th>\n",
        "      <th>Tripas</th>\n",
        "    </tr>\n",
        "  </thead>\n",
        "  <tbody>\n",
        "    <tr>\n",
        "      <th>0</th>\n",
        "      <td>  7</td>\n",
        "      <td> 59</td>\n",
        "    </tr>\n",
        "    <tr>\n",
        "      <th>1</th>\n",
        "      <td> 61</td>\n",
        "      <td> 54</td>\n",
        "    </tr>\n",
        "    <tr>\n",
        "      <th>2</th>\n",
        "      <td> 57</td>\n",
        "      <td> 93</td>\n",
        "    </tr>\n",
        "    <tr>\n",
        "      <th>3</th>\n",
        "      <td> 17</td>\n",
        "      <td> 33</td>\n",
        "    </tr>\n",
        "    <tr>\n",
        "      <th>4</th>\n",
        "      <td> 12</td>\n",
        "      <td> 90</td>\n",
        "    </tr>\n",
        "    <tr>\n",
        "      <th>5</th>\n",
        "      <td> 91</td>\n",
        "      <td> 68</td>\n",
        "    </tr>\n",
        "    <tr>\n",
        "      <th>6</th>\n",
        "      <td> 98</td>\n",
        "      <td> 50</td>\n",
        "    </tr>\n",
        "  </tbody>\n",
        "</table>\n",
        "</div>"
       ],
       "metadata": {},
       "output_type": "pyout",
       "prompt_number": 16,
       "text": [
        "   Pastor  Tripas\n",
        "0       7      59\n",
        "1      61      54\n",
        "2      57      93\n",
        "3      17      33\n",
        "4      12      90\n",
        "5      91      68\n",
        "6      98      50"
       ]
      }
     ],
     "prompt_number": 16
    },
    {
     "cell_type": "code",
     "collapsed": false,
     "input": [],
     "language": "python",
     "metadata": {},
     "outputs": []
    }
   ],
   "metadata": {}
  }
 ]
}