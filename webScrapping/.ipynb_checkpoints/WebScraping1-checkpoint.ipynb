{
 "metadata": {
  "name": "",
  "signature": "sha256:e7cd252e46f58001dea7e69b25e1f374459d4f41dc686cee7c548ec3416b4d0a"
 },
 "nbformat": 3,
 "nbformat_minor": 0,
 "worksheets": [
  {
   "cells": [
    {
     "cell_type": "markdown",
     "metadata": {},
     "source": [
      "# Introducci\u00f3n a Web Scraping \n",
      "\n",
      "En este notebook veremos algunos ejemplos sencillos de web scraping y al mismo tiempo aprenderemos un poco de HTML. La raz\u00f3n por la cual veremos HTML es porque al scrapear es \u00fatil identificar la estructura general de una p\u00e1gina web y saber donde es posible que se encuentre la informaci\u00f3n que buscamos. El saber un poco de HTML nos facilitar\u00e1 el extraer la informaci\u00f3n.\n",
      "\n",
      "Pero **\u00bfQu\u00e9 es Web Scraping?**\n",
      "\n",
      "En palabras llanas es una t\u00e9cnica que se apoya en el uso de la programaci\u00f3n para extraer informaci\u00f3n de p\u00e1ginas web y tratar de estructurarla de tal forma que sea \u00fatil para trabajar con ella.\n",
      "\n",
      "![Alt text](https://www.seoclerk.com/pics/want13345-34T47w1396910979.jpg)\n",
      "\n",
      "**\u00bfY qu\u00e9 es HTML?**\n",
      "\n",
      "HTML son las siglas de HyperText Markup Language y es el lenguaje est\u00e11ndar en que se hacen las p\u00e1ginas de internet. Pr\u00e1cticamente todas las p\u00e1ginas que vemos en internet son en su mayor\u00eda cientos e incluso miles de l\u00edneas de este lenguaje.\n",
      "\n",
      "En HTML todo est\u00e11 encerrado por lo que se conoce como etiquetas que se pueden entender como instrucciones para los navegadores que les indican la forma y estilo del texto encerrado entre \u00e9stas. La estructura general de una p\u00e1gina escrita en HTML es la siguiente:\n",
      "\n",
      "```HTML\n",
      "<html>\n",
      "          <head>\n",
      "              <title>.........</title>\n",
      "              .\n",
      "              .\n",
      "              .\n",
      "          </head>\n",
      "          <body>\n",
      "              <h1>.....</h1>\n",
      "              .\n",
      "              .\n",
      "              .\n",
      "              <p>.....</p>\n",
      "              .\n",
      "              .\n",
      "              .\n",
      "          </body>\n",
      "</html>\n",
      "```\n",
      "\n",
      "Todo lo que est\u00e1 entre <> son las etiquetas. Como podemos ver todas tienen una pareja <..></...>, <...> indica el inicio de una etiqueta y  </...> el final de \u00e9sta. Las principales etiquetas son estas:\n",
      "\n",
      "```HTML\n",
      "<title>Indica el t\u00edtulo de la p\u00e1gina (el que vemos en la pesta\u00f1a del navegador)</title>\n",
      "\n",
      "<body>En esta etiqueta se encuentra todo el contenido de la p\u00e1gina</body>\n",
      "\n",
      "<h1,h2,h3...h6**>Indican los t\u00edtulos que hay dentro del texto</h1...>\n",
      "\n",
      "<p>Indican parrafos</p>\n",
      "\n",
      "<a ...>Indican links</a>\n",
      "\n",
      "<td ...>Indican texto dentro de una tabla</td>\n",
      "\n",
      "<strong>Indica texto en negritas</strong>\n",
      "\n",
      "<img ...>Indica una imagen</img>\n",
      "\n",
      "```\n",
      "Algunas etiquetas incluyen lo que se conoce como clases y atributos que modifican las caracter\u00edsticas de la etiqueta. Son f\u00e1cil identificarlos ya que se escriben despu\u00e9s de la etiqueta y siempre llevan un signo = .\n",
      "\n",
      "Para estos ejemplos introductorios usaremos una p\\u00e1gina relativamene sencilla de scrapear. Empezaremos cargando la p\\u00e1gina que utilizaremos en este notebook."
     ]
    },
    {
     "cell_type": "code",
     "collapsed": false,
     "input": [
      "from IPython.display import HTML\n",
      "p = \"\"\"https://raw.githubusercontent.com/beangoben/lerningMachin/master/PaginaWeb/D%C3%ADa%20de%20muertos.html\"\"\"\n",
      "pa = HTML(p);pa"
     ],
     "language": "python",
     "metadata": {},
     "outputs": [
      {
       "html": [
        "<h1 id=\"dia-de-muertos\">D\u00eda de muertos</h1>\n",
        "<p><img alt=\"alt text\" src=\"http://www.reportajes.org/wp-content/uploads/2010/11/d%C3%ADa-de-muertos.jpg\" /></p>\n",
        "<p>Una de las tradiciones m\u00e1s representativas del pueblo mexicano es el D\u00eda de Muertos. Los origenes de esta celebraci\u00f3n se remontan varios siglos atr\u00e1s , antes de la \u00e9poca de la Colonia. Civilizaciones como los <strong>olmecas</strong> , <strong>mayas</strong> y <strong>aztecas</strong> compart\u00edan algo en com\u00fan, la creencia de una <strong>vida</strong> despu\u00e9s de la muerte.</p>\n",
        "<p>Para nuestros antepasados la <strong>muerte</strong> era s\u00f3lo una parte de un <strong>ciclo</strong> de la vida. Al morir la persona emprend\u00eda un viaje al Mictl\u00e1n, el mundo de los muertos, lugar de su eterno reposo.</p>\n",
        "<p>Al llegar los espa\u00f1oles a M\u00e9xico, las creencias prehisp\u00e1nicas se fusionaron con la religi\u00f3n cat\u00f3lica dando como resultado lo que hoy conocemos como el D\u00eda de Muertos y que se celebra cada <strong>2</strong> de <strong>Noviembre</strong>.</p>\n",
        "<h3 id=\"elementos-escenciales-de-un-altar-de-muertos\"><em>Elementos escenciales de un altar de muertos</em></h3>\n",
        "<table>\n",
        "<thead>\n",
        "<tr>\n",
        "<th align=\"center\">Elemento</th>\n",
        "<th>Significado</th>\n",
        "</tr>\n",
        "</thead>\n",
        "<tbody>\n",
        "<tr>\n",
        "<td align=\"center\">Flor de Cempas\u00fachil</td>\n",
        "<td>Quiere decir flor de m\u00e1s de 20 p\u00e9talos en la lengua n\u00e1huatl. Sus p\u00e9talos se usan para marcar en el suelo el camino que deben seguir las almas de los difuntos.</td>\n",
        "</tr>\n",
        "<tr>\n",
        "<td align=\"center\">Velas</td>\n",
        "<td>Se usan para orientar a las almas e iluminar su camino</td>\n",
        "</tr>\n",
        "<tr>\n",
        "<td align=\"center\">Sal</td>\n",
        "<td>S\u00edmbolo de purificaci\u00f3n</td>\n",
        "</tr>\n",
        "<tr>\n",
        "<td align=\"center\">Copal</td>\n",
        "<td>Atrae las almas de los difuntos hacia el altar</td>\n",
        "</tr>\n",
        "<tr>\n",
        "<td align=\"center\">Comida</td>\n",
        "<td>Se ponen los platillos favoritos del difunto a quien se ofrece el altar</td>\n",
        "</tr>\n",
        "<tr>\n",
        "<td align=\"center\">Agua</td>\n",
        "<td>Se coloca un vaso con agua para calmar la sed del difunto despu\u00e9s de su largo viaje</td>\n",
        "</tr>\n",
        "<tr>\n",
        "<td align=\"center\">Arco de flores</td>\n",
        "<td>Simboliza la entrada al mundo de los muertos</td>\n",
        "</tr>\n",
        "</tbody>\n",
        "</table>\n",
        "<p>Para aprender m\u00e1s acerca de esta tradici\u00f3n puedes visitar las siguientes p\u00e1ginas\n",
        "<em> <a href=\"http://www.uv.mx/cienciahombre/revistae/vol25num1/articulos/altar/\">http://www.uv.mx/cienciahombre/revistae/vol25num1/articulos/altar/</a>\n",
        "</em> <a href=\"http://www.mexicodesconocido.com.mx/haz-tu-propia-ofrenda-de-dia-de-muertos.html\">http://www.mexicodesconocido.com.mx/haz-tu-propia-ofrenda-de-dia-de-muertos.html</a>\n",
        "* <a href=\"http://aristeguinoticias.com/2810/lomasdestacado/como-hacer-una-ofrenda-o-altar-de-muertos/\">http://aristeguinoticias.com/2810/lomasdestacado/como-hacer-una-ofrenda-o-altar-de-muertos/</a></p>"
       ],
       "metadata": {},
       "output_type": "pyout",
       "prompt_number": 20,
       "text": [
        "<IPython.core.display.HTML at 0x5e58b00>"
       ]
      }
     ],
     "prompt_number": 20
    },
    {
     "cell_type": "markdown",
     "metadata": {},
     "source": [
      "Con el c\u00f3digo anterior cargamos la p\u00e1gina de la cual extraeremos la informaci\u00f3n.\n",
      "\n",
      "### Primer Ejemplo\n",
      "\n",
      "Para este primer ejemplo lo que haremos es obtener el t\u00edtulo de la p\u00e1gina web (el que aparece en la pesta\u00f1a del navegador). Es importante recalcar que antes de cualquier cosa debemos importar las librer\u00edas que necesitaremos."
     ]
    },
    {
     "cell_type": "code",
     "collapsed": false,
     "input": [
      "import urllib.request\n",
      "import bs4\n",
      "import re"
     ],
     "language": "python",
     "metadata": {},
     "outputs": [],
     "prompt_number": 8
    },
    {
     "cell_type": "markdown",
     "metadata": {},
     "source": [
      "Con las instrucciones anteriores hemos cargado las librer\u00edas que usaremos para el scrapping. Urllib.request nos permite acceder a las p\u00e1ginas **(Si usas Python 2 debes cambiar urllib.request por urllib2)**, Beautiful Soup (bs4) nos permite parsear la p\u00e1gina, re es la librer\u00eda de Python de expresiones regulares.\n",
      "\n",
      "Para aprender m\u00e1s acerca del uso de estas librer\u00edas podemos vistar las siguientes p\\u00e1ginas:\n",
      "\n",
      "[Beautiful Soup](http://www.crummy.com/software/BeautifulSoup/)\n",
      "\n",
      "[urllib.request](https://docs.python.org/3.0/library/urllib.request.html)\n",
      "\n",
      "[re](https://docs.python.org/2/library/re.html)\n",
      "\n",
      "Despu\u00e9s de que importamos la librer\u00edas podemos empezar a trabajar con la p\u00e1gina. Lo primero que debemos hacer con una p\u00e1gina es abrirla, para eso crearemos una funci\u00f3n para facilitar la tarea."
     ]
    },
    {
     "cell_type": "code",
     "collapsed": false,
     "input": [
      "def crearSopa(url):\n",
      "      pageUrl = urllib.request.urlopen(url)\n",
      "      pageHtml = pageUrl.read()\n",
      "      pageUrl.close()\n",
      "      return bs4.BeautifulSoup(pageHtml)"
     ],
     "language": "python",
     "metadata": {},
     "outputs": [],
     "prompt_number": 9
    },
    {
     "cell_type": "markdown",
     "metadata": {},
     "source": [
      "Con la funci\u00f3n anterior abriremos la p\u00e1gina, despu\u00e9s la leeremos crearemos la sopa y cerraremos la p\u00e1gina. A continuaci\u00f3n le indicaremos al programa con que p\u00e1gina debe hacer todo lo anterior."
     ]
    },
    {
     "cell_type": "code",
     "collapsed": false,
     "input": [
      "sopa = crearSopa(\"https://raw.githubusercontent.com/beangoben/lerningMachin/master/PaginaWeb/D%C3%ADa%20de%20muertos.html\")"
     ],
     "language": "python",
     "metadata": {},
     "outputs": [],
     "prompt_number": 10
    },
    {
     "cell_type": "markdown",
     "metadata": {},
     "source": [
      "Con la instrucci\u00f3n anterior hemos guardado todo el archivo HTML en la variable soup. Para comprobarlo veamos que tiene soup al imprimir esta variable."
     ]
    },
    {
     "cell_type": "code",
     "collapsed": false,
     "input": [
      "print(sopa)"
     ],
     "language": "python",
     "metadata": {},
     "outputs": [
      {
       "output_type": "stream",
       "stream": "stdout",
       "text": [
        "<html><body><h1 id=\"dia-de-muertos\">D\u00eda de muertos</h1>\n",
        "<p><img alt=\"alt text\" src=\"http://www.reportajes.org/wp-content/uploads/2010/11/d%C3%ADa-de-muertos.jpg\"/></p>\n",
        "<p>Una de las tradiciones m\u00e1s representativas del pueblo mexicano es el D\u00eda de Muertos. Los origenes de esta celebraci\u00f3n se remontan varios siglos atr\u00e1s , antes de la \u00e9poca de la Colonia. Civilizaciones como los <strong>olmecas</strong> , <strong>mayas</strong> y <strong>aztecas</strong> compart\u00edan algo en com\u00fan, la creencia de una <strong>vida</strong> despu\u00e9s de la muerte.</p>\n",
        "<p>Para nuestros antepasados la <strong>muerte</strong> era s\u00f3lo una parte de un <strong>ciclo</strong> de la vida. Al morir la persona emprend\u00eda un viaje al Mictl\u00e1n, el mundo de los muertos, lugar de su eterno reposo.</p>\n",
        "<p>Al llegar los espa\u00f1oles a M\u00e9xico, las creencias prehisp\u00e1nicas se fusionaron con la religi\u00f3n cat\u00f3lica dando como resultado lo que hoy conocemos como el D\u00eda de Muertos y que se celebra cada <strong>2</strong> de <strong>Noviembre</strong>.</p>\n",
        "<h3 id=\"elementos-escenciales-de-un-altar-de-muertos\"><em>Elementos escenciales de un altar de muertos</em></h3>\n",
        "<table>\n",
        "<thead>\n",
        "<tr>\n",
        "<th align=\"center\">Elemento</th>\n",
        "<th>Significado</th>\n",
        "</tr>\n",
        "</thead>\n",
        "<tbody>\n",
        "<tr>\n",
        "<td align=\"center\">Flor de Cempas\u00fachil</td>\n",
        "<td>Quiere decir flor de m\u00e1s de 20 p\u00e9talos en la lengua n\u00e1huatl. Sus p\u00e9talos se usan para marcar en el suelo el camino que deben seguir las almas de los difuntos.</td>\n",
        "</tr>\n",
        "<tr>\n",
        "<td align=\"center\">Velas</td>\n",
        "<td>Se usan para orientar a las almas e iluminar su camino</td>\n",
        "</tr>\n",
        "<tr>\n",
        "<td align=\"center\">Sal</td>\n",
        "<td>S\u00edmbolo de purificaci\u00f3n</td>\n",
        "</tr>\n",
        "<tr>\n",
        "<td align=\"center\">Copal</td>\n",
        "<td>Atrae las almas de los difuntos hacia el altar</td>\n",
        "</tr>\n",
        "<tr>\n",
        "<td align=\"center\">Comida</td>\n",
        "<td>Se ponen los platillos favoritos del difunto a quien se ofrece el altar</td>\n",
        "</tr>\n",
        "<tr>\n",
        "<td align=\"center\">Agua</td>\n",
        "<td>Se coloca un vaso con agua para calmar la sed del difunto despu\u00e9s de su largo viaje</td>\n",
        "</tr>\n",
        "<tr>\n",
        "<td align=\"center\">Arco de flores</td>\n",
        "<td>Simboliza la entrada al mundo de los muertos</td>\n",
        "</tr>\n",
        "</tbody>\n",
        "</table>\n",
        "<p>Para aprender m\u00e1s acerca de esta tradici\u00f3n puedes visitar las siguientes p\u00e1ginas\n",
        "<em> <a href=\"http://www.uv.mx/cienciahombre/revistae/vol25num1/articulos/altar/\">http://www.uv.mx/cienciahombre/revistae/vol25num1/articulos/altar/</a>\n",
        "</em> <a href=\"http://www.mexicodesconocido.com.mx/haz-tu-propia-ofrenda-de-dia-de-muertos.html\">http://www.mexicodesconocido.com.mx/haz-tu-propia-ofrenda-de-dia-de-muertos.html</a>\n",
        "* <a href=\"http://aristeguinoticias.com/2810/lomasdestacado/como-hacer-una-ofrenda-o-altar-de-muertos/\">http://aristeguinoticias.com/2810/lomasdestacado/como-hacer-una-ofrenda-o-altar-de-muertos/</a></p></body></html>\n"
       ]
      }
     ],
     "prompt_number": 11
    },
    {
     "cell_type": "markdown",
     "metadata": {},
     "source": [
      "Pero nosotros no queremos todo el c\u00f3digo. Por el momento s\u00f3lo nos interesa el t\\\u00edtulo de la p\u00e11gina. Para esto primero debemos identificar en que etiquetas se encuentra esta informaci\u00f3n. En este caso las etiquetas que encierran la informaci\u00f3n que requerimos son   ```<h1>```. Afortunadamente Beautiful Soup nos permite obtener esta informaci\u00f3n de manera relativamente sencilla."
     ]
    },
    {
     "cell_type": "code",
     "collapsed": false,
     "input": [
      "titulo = sopa.h1.get_text()\n",
      "print(titulo)"
     ],
     "language": "python",
     "metadata": {},
     "outputs": [
      {
       "output_type": "stream",
       "stream": "stdout",
       "text": [
        "D\u00eda de muertos\n"
       ]
      }
     ],
     "prompt_number": 16
    },
    {
     "cell_type": "markdown",
     "metadata": {},
     "source": [
      "Hemos obtenido el t\u00edtulo.En la primer l\u00ednea del c\u00f3digo anterior hemos escrito title entre soup y get_text() porque de esta manera le indicamos al programa entre que etiquetas buscar. La funci\u00f3n ***get_text()*** nos permite obtener s\u00f3lo el texto entre las etiquetas que deseamos.\n",
      "\n",
      "###Segundo Ejemplo\n",
      "\n",
      "Ya hemos obtenido el t\u00edtulo de la p\u00e1gina pero eso es muy sencillo. Ahora vamos a obtener las palabras en negritas del texto. Primero debemos identificar las etiquetas en las que se encuentran estas palabras. Las etiquetas son ```<strong>```. Lamentablemente no podemos usar el m\u00e9todo anterior porque s\u00f3lo obtiene el texto de las primeras etiquetas que encuentra, no de el de todas con la misma etiqueta. Por lo tanto debemos usar otro m\u00e9todo, para el cual usaremos la funci\u00f3n de Beautiful Soup ***find_all()***."
     ]
    },
    {
     "cell_type": "code",
     "collapsed": false,
     "input": [
      "palabrasclave = sopa.find_all(\"strong\")\n",
      "print(palabrasclave)"
     ],
     "language": "python",
     "metadata": {},
     "outputs": [
      {
       "output_type": "stream",
       "stream": "stdout",
       "text": [
        "[<strong>olmecas</strong>, <strong>mayas</strong>, <strong>aztecas</strong>, <strong>vida</strong>, <strong>muerte</strong>, <strong>ciclo</strong>, <strong>2</strong>, <strong>Noviembre</strong>]\n"
       ]
      }
     ],
     "prompt_number": 12
    },
    {
     "cell_type": "markdown",
     "metadata": {},
     "source": [
      "Podemos ver que el nuevo m\u00e9todo obtuvo todas las palabras que quer\u00edamos pero dejo las etiquetas de HTML y esas no nos sirve."
     ]
    },
    {
     "cell_type": "code",
     "collapsed": false,
     "input": [
      "palabrascl = []\n",
      "for indx, pacl in enumerate(palabrasclave):\n",
      "          pacl = str(pacl.renderContents())\n",
      "          palabrascl.append(pacl)\n",
      "print(palabrascl) "
     ],
     "language": "python",
     "metadata": {},
     "outputs": [
      {
       "output_type": "stream",
       "stream": "stdout",
       "text": [
        "[\"b'olmecas'\", \"b'mayas'\", \"b'aztecas'\", \"b'vida'\", \"b'muerte'\", \"b'ciclo'\", \"b'2'\", \"b'Noviembre'\"]\n"
       ]
      }
     ],
     "prompt_number": 13
    },
    {
     "cell_type": "markdown",
     "metadata": {},
     "source": [
      "Definimos una lista *palabrascl* en la que guardaremos las palabras despu\u00e9s de haber quitado el texto basura. Hemos quitado las etiquetas pero sigue quedando una b'. Agregaremos esto tambi\u00e9n en la funci\u00f3n ***replace***."
     ]
    },
    {
     "cell_type": "code",
     "collapsed": false,
     "input": [
      "palabrascl = []\n",
      "for indx, pacl in enumerate(palabrasclave):\n",
      "          pacl = str(pacl.renderContents())\n",
      "          pacl = pacl.replace(\"b'\",\"\")\n",
      "          pacl = pacl.replace(\"'\",\"\")\n",
      "          palabrascl.append(pacl)\n",
      "print(palabrascl) "
     ],
     "language": "python",
     "metadata": {},
     "outputs": [
      {
       "output_type": "stream",
       "stream": "stdout",
       "text": [
        "['olmecas', 'mayas', 'aztecas', 'vida', 'muerte', 'ciclo', '2', 'Noviembre']\n"
       ]
      }
     ],
     "prompt_number": 14
    },
    {
     "cell_type": "markdown",
     "metadata": {},
     "source": [
      "Finalmente hemos obtenido s\u00f3lo el texto de todas las palabras clave de la p\u00e1gina.\n",
      "\n",
      "###Tercer Ejemplo\n",
      "\n",
      "Ahora hagamos algo que puede ser muy \u00fatil para futuros scrapings, obtener los links dentro de una p\u00e1gina web. Nuevamente debemos identificar las etiqutas donde se encuentran alojados los links. En el caso de los links esta etiqueta es ```<a>```."
     ]
    },
    {
     "cell_type": "code",
     "collapsed": false,
     "input": [
      "a = sopa.find_all(\"a\")\n",
      "for indx, links in enumerate(a):\n",
      "          print(indx,links.get('href'))"
     ],
     "language": "python",
     "metadata": {},
     "outputs": [
      {
       "output_type": "stream",
       "stream": "stdout",
       "text": [
        "0 http://www.uv.mx/cienciahombre/revistae/vol25num1/articulos/altar/\n",
        "1 http://www.mexicodesconocido.com.mx/haz-tu-propia-ofrenda-de-dia-de-muertos.html\n",
        "2 http://aristeguinoticias.com/2810/lomasdestacado/como-hacer-una-ofrenda-o-altar-de-muertos/\n"
       ]
      }
     ],
     "prompt_number": 18
    },
    {
     "cell_type": "markdown",
     "metadata": {},
     "source": [
      "En este ejemplo usamos la funci\u00f3n de Beautiful Soup ***get()***, el primer argumento indica la etiqueta de la que queremos obtener la informaci\u00f3n en este caso ```<links>``` y dentro de ***get()*** el atributo de la etiqueta.\n",
      "\n",
      "###Cuarto Ejemplo\n",
      "\n",
      "Para este ejemplos buscaremos extraer la informaci\u00f3n de la tabla pero s\u00f3lo los datos de la primer columna. De nuevo observando el c\u00f3digo HTML nos damos cuenta de que la informaci\u00f3n que necesitamos se encuentran entre las etiquetas ```<td>``` pero a diferencia del texto de la segunda columna las etiquetas tienen un atributo **\"align = center\"**. Podemos aprovechar esto a nuestro favor para indicarle al programa de una manera m\u00e1s espec\u00edfica que es lo que queremos que encuentre."
     ]
    },
    {
     "cell_type": "code",
     "collapsed": false,
     "input": [
      "elementos = []\n",
      "datostabla = sopa.find_all(\"td\",{\"align\" : \"center\"})\n",
      "for indx, elem in enumerate(datostabla):\n",
      "          elem = str(elem.renderContents())\n",
      "          elem = elem.replace(\"b'\",\"\")\n",
      "          elem = elem.replace(\"'\",\"\")\n",
      "          elementos.append(elem)\n",
      "print(elementos)"
     ],
     "language": "python",
     "metadata": {},
     "outputs": [
      {
       "output_type": "stream",
       "stream": "stdout",
       "text": [
        "['Flor de Cempas\\\\xc3\\\\xbachil', 'Velas', 'Sal', 'Copal', 'Comida', 'Agua', 'Arco de flores']\n"
       ]
      }
     ],
     "prompt_number": 17
    },
    {
     "cell_type": "markdown",
     "metadata": {},
     "source": [
      "En la funci\u00f3n ***find_all()*** adem\u00e1s de indicar la etiqueta que queremos que busque tambi\u00e9n agregamos el atributo que tiene la primer columna a diferencia del ejemplo de las palabras clave en el que bastaba con indicar la etiqueta donde se encontraban las palabras.\n",
      " \n",
      "Si no indicamos el atributo obtendr\u00e9mos las dos columnas ya que el programa busca todo lo que se encuentra en la etiqueta ```<td>```, por eso es importante aprovechar las clases y los atributos."
     ]
    }
   ],
   "metadata": {}
  }
 ]
}