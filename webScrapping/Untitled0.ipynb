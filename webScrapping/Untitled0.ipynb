{
 "metadata": {
  "name": "",
  "signature": "sha256:2d923590520b8efc422f1a57e6f3f2b070eddcf66d27dd975fa8912826113cf3"
 },
 "nbformat": 3,
 "nbformat_minor": 0,
 "worksheets": [
  {
   "cells": [
    {
     "cell_type": "markdown",
     "metadata": {},
     "source": [
      "# Introducci\u00f3n a Web Scrapping "
     ]
    },
    {
     "cell_type": "markdown",
     "metadata": {},
     "source": [
      "En este notebook veremos algunos ejemplos sencillos de web scrapping y al mismo tiempo aprenderemos un poco de HTML. La raz\u00f3n por la cual veremos HTML es porque al scrapperar es \u00fatil identificar la estructura general de una p\u00e1gina web y saber donde es posible que se encuentre la informaci\u00f3n que buscamos. El saber un poco de HTML nos facilitar\u00e1 el extraer la informaci\u00f3n.\n",
      "\n",
      "Para estos ejemplos introductorios usaremos una p\u00e1gina relativamene sencilla de scrappear. Empezaremos cargando la p\u00e1gina a utilizar en este notebook."
     ]
    },
    {
     "cell_type": "code",
     "collapsed": false,
     "input": [
      "from IPython.display import HTML\n",
      "HTML('<iframe src=file:///C:/users/victo_~1/appdata/local/temp/30.html width=700 height=350></iframe>')"
     ],
     "language": "python",
     "metadata": {},
     "outputs": [
      {
       "html": [
        "<iframe src=file:///C:/users/victo_~1/appdata/local/temp/30.html width=700 height=350></iframe>"
       ],
       "metadata": {},
       "output_type": "pyout",
       "prompt_number": 1,
       "text": [
        "<IPython.core.display.HTML at 0x59f5e80>"
       ]
      }
     ],
     "prompt_number": 1
    },
    {
     "cell_type": "markdown",
     "metadata": {},
     "source": [
      "Con el c\u00f3digo anterior cargamos la p\u00e1gina de la cual extraeremos la informaci\u00f3n.\n",
      "\n",
      "### Primer Ejemplo\n",
      "\n",
      "Para este primer ejemplo lo que haremos es obtener el t\u00edtulo de la p\u00e1gina web (el que aparece en la pesta\u00f1a del navegador). Es importante recalcar que antes de cualquier cosa debemos importar las librer\u00edas que necesitaremos."
     ]
    },
    {
     "cell_type": "code",
     "collapsed": false,
     "input": [
      "import urllib.request\n",
      "import bs4\n",
      "import re"
     ],
     "language": "python",
     "metadata": {},
     "outputs": [],
     "prompt_number": 8
    },
    {
     "cell_type": "markdown",
     "metadata": {},
     "source": [
      "Con las instrucciones anteriores hemos cargado las librer\u00eda que usaremos para el scrapping. Urllib.request nos permite acceder a las p\u00e1ginas, Beautiful Soup (bs4) nos permite parsear la p\u00e1gina, re es la librer\u00eda de Python de expresiones regulares.\n",
      "\n",
      "Despu\u00e9s de que importamos la librer\u00edas podemos empezar a trabajar con la p\u00e1gina. Lo primero que debemos hacer con una p\u00e1gina es abrirla, para eso crearemos una funci\u00f3n para facilitar la tarea."
     ]
    },
    {
     "cell_type": "code",
     "collapsed": false,
     "input": [
      "def createSoup(url):\n",
      "\tpageUrl = urllib.request.urlopen(url)\n",
      "\tpageHtml = pageUrl.read()\n",
      "\tpageUrl.close()\n",
      "\treturn bs4.BeautifulSoup(pageHtml)"
     ],
     "language": "python",
     "metadata": {},
     "outputs": [],
     "prompt_number": 2
    },
    {
     "cell_type": "markdown",
     "metadata": {},
     "source": [
      "Con la funci\u00f3n anterior abriremos la p\u00e1gina, despu\u00e9s la leeremos crearemos la sopa y cerraremos la p\u00e1gina.\n",
      "\n",
      "A continuaci\u00f3n le indicaremos al programa con que p\u00e1gina debe hacer todo lo anterior."
     ]
    },
    {
     "cell_type": "code",
     "collapsed": false,
     "input": [
      "soup = createSoup(\"file:///C:/users/victo_~1/appdata/local/temp/30.html\")\n"
     ],
     "language": "python",
     "metadata": {},
     "outputs": [
      {
       "ename": "NameError",
       "evalue": "name 'urllib' is not defined",
       "output_type": "pyerr",
       "traceback": [
        "\u001b[1;31m---------------------------------------------------------------------------\u001b[0m\n\u001b[1;31mNameError\u001b[0m                                 Traceback (most recent call last)",
        "\u001b[1;32m<ipython-input-3-448f338c29f9>\u001b[0m in \u001b[0;36m<module>\u001b[1;34m()\u001b[0m\n\u001b[1;32m----> 1\u001b[1;33m \u001b[0msoup\u001b[0m \u001b[1;33m=\u001b[0m \u001b[0mcreateSoup\u001b[0m\u001b[1;33m(\u001b[0m\u001b[1;34m\"file:///C:/users/victo_~1/appdata/local/temp/30.html\"\u001b[0m\u001b[1;33m)\u001b[0m\u001b[1;33m\u001b[0m\u001b[0m\n\u001b[0m",
        "\u001b[1;32m<ipython-input-2-fa03c1ca9ec0>\u001b[0m in \u001b[0;36mcreateSoup\u001b[1;34m(url)\u001b[0m\n\u001b[0;32m      1\u001b[0m \u001b[1;32mdef\u001b[0m \u001b[0mcreateSoup\u001b[0m\u001b[1;33m(\u001b[0m\u001b[0murl\u001b[0m\u001b[1;33m)\u001b[0m\u001b[1;33m:\u001b[0m\u001b[1;33m\u001b[0m\u001b[0m\n\u001b[1;32m----> 2\u001b[1;33m         \u001b[0mpageUrl\u001b[0m \u001b[1;33m=\u001b[0m \u001b[0murllib\u001b[0m\u001b[1;33m.\u001b[0m\u001b[0mrequest\u001b[0m\u001b[1;33m.\u001b[0m\u001b[0murlopen\u001b[0m\u001b[1;33m(\u001b[0m\u001b[0murl\u001b[0m\u001b[1;33m)\u001b[0m\u001b[1;33m\u001b[0m\u001b[0m\n\u001b[0m\u001b[0;32m      3\u001b[0m         \u001b[0mpageHtml\u001b[0m \u001b[1;33m=\u001b[0m \u001b[0mpageUrl\u001b[0m\u001b[1;33m.\u001b[0m\u001b[0mread\u001b[0m\u001b[1;33m(\u001b[0m\u001b[1;33m)\u001b[0m\u001b[1;33m\u001b[0m\u001b[0m\n\u001b[0;32m      4\u001b[0m         \u001b[0mpageUrl\u001b[0m\u001b[1;33m.\u001b[0m\u001b[0mclose\u001b[0m\u001b[1;33m(\u001b[0m\u001b[1;33m)\u001b[0m\u001b[1;33m\u001b[0m\u001b[0m\n\u001b[0;32m      5\u001b[0m         \u001b[1;32mreturn\u001b[0m \u001b[0mbs4\u001b[0m\u001b[1;33m.\u001b[0m\u001b[0mBeautifulSoup\u001b[0m\u001b[1;33m(\u001b[0m\u001b[0mpageHtml\u001b[0m\u001b[1;33m)\u001b[0m\u001b[1;33m\u001b[0m\u001b[0m\n",
        "\u001b[1;31mNameError\u001b[0m: name 'urllib' is not defined"
       ]
      }
     ],
     "prompt_number": 3
    },
    {
     "cell_type": "markdown",
     "metadata": {},
     "source": [
      "Con la instrucci\u00f3n anterior hemos guardado todo el archivo HTML en la variable soup. Para comprobarlo veamos que tiene soup al imprimir esta variable."
     ]
    },
    {
     "cell_type": "code",
     "collapsed": false,
     "input": [
      "print(soup)"
     ],
     "language": "python",
     "metadata": {},
     "outputs": [
      {
       "ename": "NameError",
       "evalue": "name 'soup' is not defined",
       "output_type": "pyerr",
       "traceback": [
        "\u001b[1;31m---------------------------------------------------------------------------\u001b[0m\n\u001b[1;31mNameError\u001b[0m                                 Traceback (most recent call last)",
        "\u001b[1;32m<ipython-input-4-e50a2c52f89d>\u001b[0m in \u001b[0;36m<module>\u001b[1;34m()\u001b[0m\n\u001b[1;32m----> 1\u001b[1;33m \u001b[0mprint\u001b[0m\u001b[1;33m(\u001b[0m\u001b[0msoup\u001b[0m\u001b[1;33m)\u001b[0m\u001b[1;33m\u001b[0m\u001b[0m\n\u001b[0m",
        "\u001b[1;31mNameError\u001b[0m: name 'soup' is not defined"
       ]
      }
     ],
     "prompt_number": 4
    },
    {
     "cell_type": "markdown",
     "metadata": {},
     "source": [
      "Pero nosotros no queremos todo el c\u00f3digo. Por el momento s\u00f3lo nos interesa el t\u00edtulo de la p\u00e1gina. Para esto primero debemos identificar en que etiquetas se encuentra esta informaci\u00f3n. En este caso las etiquetas que encierran la informaci\u00f3n que requerimos son \"title\". Afortunadamente Beautiful Soup nos permite obtener esta informaci\u00f3n de manera relativamente sencilla."
     ]
    },
    {
     "cell_type": "code",
     "collapsed": false,
     "input": [
      "titulo = soup.title.get_text()\n",
      "print(titulo)"
     ],
     "language": "python",
     "metadata": {},
     "outputs": [
      {
       "ename": "NameError",
       "evalue": "name 'soup' is not defined",
       "output_type": "pyerr",
       "traceback": [
        "\u001b[1;31m---------------------------------------------------------------------------\u001b[0m\n\u001b[1;31mNameError\u001b[0m                                 Traceback (most recent call last)",
        "\u001b[1;32m<ipython-input-5-d7c2cc4b0cb0>\u001b[0m in \u001b[0;36m<module>\u001b[1;34m()\u001b[0m\n\u001b[1;32m----> 1\u001b[1;33m \u001b[0mtitulo\u001b[0m \u001b[1;33m=\u001b[0m \u001b[0msoup\u001b[0m\u001b[1;33m.\u001b[0m\u001b[0mtitle\u001b[0m\u001b[1;33m.\u001b[0m\u001b[0mget_text\u001b[0m\u001b[1;33m(\u001b[0m\u001b[1;33m)\u001b[0m\u001b[1;33m\u001b[0m\u001b[0m\n\u001b[0m\u001b[0;32m      2\u001b[0m \u001b[0mprint\u001b[0m\u001b[1;33m(\u001b[0m\u001b[0mtitulo\u001b[0m\u001b[1;33m)\u001b[0m\u001b[1;33m\u001b[0m\u001b[0m\n",
        "\u001b[1;31mNameError\u001b[0m: name 'soup' is not defined"
       ]
      }
     ],
     "prompt_number": 5
    },
    {
     "cell_type": "markdown",
     "metadata": {},
     "source": [
      "Hemos obtenido el t\u00edtulo.En la primer l\u00ednea del c\u00f3digo anterior hemos escrito title entre soup y get_text() porque de esta manera le indicamos al programa entre que etiquetas buscar. La funci\u00f3n get_text() nos permite obtener s\u00f3lo el texto entre las etiquetas que deseamos."
     ]
    },
    {
     "cell_type": "markdown",
     "metadata": {},
     "source": [
      "####Segundo Ejemplo\n",
      "\n",
      "Ya hemos obtenido el t\u00edtulo de la p\u00e1gina pero eso es muy sencillo. Ahora vamos a obtener las palabras en negritas del texto. Primero debemos identificar las etiquetas en las que se encuentran estas palabras. Las etiquetas son \"strong\". Lamentablemente no podemos usar el m\u00e9todo anterior porque s\u00f3lo obtiene el texto de las primeras etiquetas que encuentra, no de el de todas con la misma etiqueta. Por lo tanto debemos usar otro m\u00e9todo, para el cual usaremos la funci\u00f3n de Beautiful Soup find_all()."
     ]
    },
    {
     "cell_type": "code",
     "collapsed": false,
     "input": [
      "palabrasclave = soup.find_all(\"strong\")\n",
      "print(palabrasclave)"
     ],
     "language": "python",
     "metadata": {},
     "outputs": [
      {
       "ename": "NameError",
       "evalue": "name 'soup' is not defined",
       "output_type": "pyerr",
       "traceback": [
        "\u001b[1;31m---------------------------------------------------------------------------\u001b[0m\n\u001b[1;31mNameError\u001b[0m                                 Traceback (most recent call last)",
        "\u001b[1;32m<ipython-input-6-db444a42d194>\u001b[0m in \u001b[0;36m<module>\u001b[1;34m()\u001b[0m\n\u001b[1;32m----> 1\u001b[1;33m \u001b[0mpalabrasclave\u001b[0m \u001b[1;33m=\u001b[0m \u001b[0msoup\u001b[0m\u001b[1;33m.\u001b[0m\u001b[0mfind_all\u001b[0m\u001b[1;33m(\u001b[0m\u001b[1;34m\"strong\"\u001b[0m\u001b[1;33m)\u001b[0m\u001b[1;33m\u001b[0m\u001b[0m\n\u001b[0m\u001b[0;32m      2\u001b[0m \u001b[0mprint\u001b[0m\u001b[1;33m(\u001b[0m\u001b[0mpalabrasclave\u001b[0m\u001b[1;33m)\u001b[0m\u001b[1;33m\u001b[0m\u001b[0m\n",
        "\u001b[1;31mNameError\u001b[0m: name 'soup' is not defined"
       ]
      }
     ],
     "prompt_number": 6
    },
    {
     "cell_type": "markdown",
     "metadata": {},
     "source": [
      "Podemos ver que el nuevo m\u00e9todo obtuvo todas las palabras que quer\u00edamos pero dejo las etiquetas de HTML y esas no nos sirve."
     ]
    },
    {
     "cell_type": "code",
     "collapsed": false,
     "input": [
      "palabrascl = []\n",
      "for indx, pacl in enumerate(palabrasclave):\n",
      "    pacl = str(pacl.renderContents())\n",
      "    pacl = pacl.replace(\"<strong>\",\"\")\n",
      "    palabrascl.append(pacl)\n",
      "print(palabrascl) "
     ],
     "language": "python",
     "metadata": {},
     "outputs": [
      {
       "ename": "NameError",
       "evalue": "name 'palabrasclave' is not defined",
       "output_type": "pyerr",
       "traceback": [
        "\u001b[1;31m---------------------------------------------------------------------------\u001b[0m\n\u001b[1;31mNameError\u001b[0m                                 Traceback (most recent call last)",
        "\u001b[1;32m<ipython-input-7-a3c752852e46>\u001b[0m in \u001b[0;36m<module>\u001b[1;34m()\u001b[0m\n\u001b[0;32m      1\u001b[0m \u001b[0mpalabrascl\u001b[0m \u001b[1;33m=\u001b[0m \u001b[1;33m[\u001b[0m\u001b[1;33m]\u001b[0m\u001b[1;33m\u001b[0m\u001b[0m\n\u001b[1;32m----> 2\u001b[1;33m \u001b[1;32mfor\u001b[0m \u001b[0mindx\u001b[0m\u001b[1;33m,\u001b[0m \u001b[0mpacl\u001b[0m \u001b[1;32min\u001b[0m \u001b[0menumerate\u001b[0m\u001b[1;33m(\u001b[0m\u001b[0mpalabrasclave\u001b[0m\u001b[1;33m)\u001b[0m\u001b[1;33m:\u001b[0m\u001b[1;33m\u001b[0m\u001b[0m\n\u001b[0m\u001b[0;32m      3\u001b[0m     \u001b[0mpacl\u001b[0m \u001b[1;33m=\u001b[0m \u001b[0mstr\u001b[0m\u001b[1;33m(\u001b[0m\u001b[0mpacl\u001b[0m\u001b[1;33m.\u001b[0m\u001b[0mrenderContents\u001b[0m\u001b[1;33m(\u001b[0m\u001b[1;33m)\u001b[0m\u001b[1;33m)\u001b[0m\u001b[1;33m\u001b[0m\u001b[0m\n\u001b[0;32m      4\u001b[0m     \u001b[0mpacl\u001b[0m \u001b[1;33m=\u001b[0m \u001b[0mpacl\u001b[0m\u001b[1;33m.\u001b[0m\u001b[0mreplace\u001b[0m\u001b[1;33m(\u001b[0m\u001b[1;34m\"<strong>\"\u001b[0m\u001b[1;33m,\u001b[0m\u001b[1;34m\"\"\u001b[0m\u001b[1;33m)\u001b[0m\u001b[1;33m\u001b[0m\u001b[0m\n\u001b[0;32m      5\u001b[0m     \u001b[0mpalabrascl\u001b[0m\u001b[1;33m.\u001b[0m\u001b[0mappend\u001b[0m\u001b[1;33m(\u001b[0m\u001b[0mpacl\u001b[0m\u001b[1;33m)\u001b[0m\u001b[1;33m\u001b[0m\u001b[0m\n",
        "\u001b[1;31mNameError\u001b[0m: name 'palabrasclave' is not defined"
       ]
      }
     ],
     "prompt_number": 7
    },
    {
     "cell_type": "code",
     "collapsed": false,
     "input": [],
     "language": "python",
     "metadata": {},
     "outputs": []
    }
   ],
   "metadata": {}
  }
 ]
}