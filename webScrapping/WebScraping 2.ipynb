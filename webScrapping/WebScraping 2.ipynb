{
 "metadata": {
  "name": "",
  "signature": "sha256:80e1df1cb25cd89627509295a31b941fc42d8b4d74ad0495a23f7dcc954f2c6f"
 },
 "nbformat": 3,
 "nbformat_minor": 0,
 "worksheets": [
  {
   "cells": [
    {
     "cell_type": "markdown",
     "metadata": {},
     "source": [
      "#TUTORIAL 2 WEBSCRAPING\n",
      "#Obteniendo informaci\u00f3n de las pel\u00edculas que te gustan"
     ]
    },
    {
     "cell_type": "markdown",
     "metadata": {},
     "source": [
      "Para este tuto llevaremos acabo el scraping a una p\u00e1gina que almacena informaci\u00f3n relacionada con pel\u00edculas, series y programas de TV, la gran IMDB. Partiremos desde su p\u00e1gina principal *http://www.imdb.com/* para irnos sumergiendo en p\u00e1ginas especificas , donde sabemos, se encuentran los detalles de la pel\u00edculas dr\u00e1maticas que nos encantan y as\u00ed extraer la informaci\u00f3n  \n",
      " <a href=\"url\"><img src=\"http://aplicacionesparaandroid.info/wp-content/uploads/2012/02/imdb-para-android.jpg\" align=\"center\" height=\"200\" width=\"300\" ></a>\n",
      " \n",
      "Debido a que este tipo de webs contiene much\u00edsimos links anidados a la p\u00e1gina principal, nos enfocaremos s\u00f3lo con los que estan en la barra derecha, \u00a1vaya trabajo si deseamos conseguir todos los links!\n"
     ]
    },
    {
     "cell_type": "markdown",
     "metadata": {},
     "source": [
      "##BIEN, AQU\u00cd VAMOS"
     ]
    },
    {
     "cell_type": "markdown",
     "metadata": {},
     "source": [
      "Nuevamente usaremos las librer\u00edas **urllib2, bs4** y **re**, que como ya sabemos, nos permiten obtener la p\u00e1gina que deseamos \"scrapear\", analizarla y encontrar patrones o partes que son de nuestro inter\u00e9s. "
     ]
    },
    {
     "cell_type": "code",
     "collapsed": false,
     "input": [
      "import urllib2\n",
      "import bs4\n",
      "import re"
     ],
     "language": "python",
     "metadata": {},
     "outputs": [],
     "prompt_number": 17
    },
    {
     "cell_type": "markdown",
     "metadata": {},
     "source": [
      "Creamos una variable string con la url de la p\u00e1gina principal de imdb y una lista donde almacenaremos las ligas que encontraremos en la barra derecha de dicha p\u00e1gina, \"Opening this week\". Utilicemos la funci\u00f3n **crearSopa** creada en el tuto anterior, la cual genera la *sopa* del codigo html de la p\u00e1gina web e inmediatamente la generamos guardandola en *sopaGrande*\n"
     ]
    },
    {
     "cell_type": "code",
     "collapsed": false,
     "input": [
      "laliga = \"http://www.imdb.com/\" # La pagina tronco de la cual derivaremos\n",
      "paginas = []                    # almacena los links que llevan a las p\u00e1ginas de las peliculas "
     ],
     "language": "python",
     "metadata": {},
     "outputs": [],
     "prompt_number": 18
    },
    {
     "cell_type": "markdown",
     "metadata": {},
     "source": [
      "\n"
     ]
    },
    {
     "cell_type": "code",
     "collapsed": false,
     "input": [
      "def crearSopa(aurl):\n",
      "    pageUrl = urllib2.urlopen(aurl)\t\n",
      "    pageHtml = pageUrl.read()\n",
      "    pageUrl.close()\n",
      "    return bs4.BeautifulSoup(pageHtml)    #devolvemos la sopa de la p\u00e1gina web\n",
      "sopaGrande = crearSopa(laliga)         "
     ],
     "language": "python",
     "metadata": {},
     "outputs": [],
     "prompt_number": 19
    },
    {
     "cell_type": "markdown",
     "metadata": {},
     "source": [
      "Debemos enfocar nuestra b\u00fasqueda en bloques de c\u00f3digo donde haya links, pues muchos de estos nos llevar\u00e1n a los detalles de pel\u00edculas. Localizada ya, como se muestra en el video y acontinuaci\u00f3n, la parte de c\u00f3digo que nos interesa"
     ]
    },
    {
     "cell_type": "raw",
     "metadata": {},
     "source": [
      "<div class=\"title\">\n",
      "<a href=\"/title/tt2310332?ref_=hm_otw_t0\">\n",
      "El Hobbit: La batalla de los cinco ej\u00e9rcitos\n",
      "</a><span class=\"secondary-text\"></span>\n",
      "</div>"
     ]
    },
    {
     "cell_type": "markdown",
     "metadata": {},
     "source": [
      "Creamos c\u00f3digo que nos permita dirigirnos a esos links y tomar lo que necesitamos"
     ]
    },
    {
     "cell_type": "markdown",
     "metadata": {},
     "source": [
      "Usando el m\u00e9todo **find_all** capturamos todas las etiquetas que contienen links (tags \"a\"), pero que poseen el atributo *href* comenzando con el fragmento '/title', y las almacenamos en nuestra lista *paginas* . El car\u00e1cter '^' especifica que nuestra expresi\u00f3n regular comience con esa cadena exactamente"
     ]
    },
    {
     "cell_type": "code",
     "collapsed": false,
     "input": [
      "etiquetas = sopaGrande.find_all(\"a\",href=re.compile(\"^/title\"))\n",
      "for link in etiquetas:           # link va guardando las etiquetas en bruto\n",
      "    link=str(link.get(\"href\"))\n",
      "    paginas.append(link)\n",
      "print(paginas[0])                # la salida corresponde a una parte del url de la p\u00e1gina que contiene la rese\u00f1a\n"
     ],
     "language": "python",
     "metadata": {},
     "outputs": [
      {
       "output_type": "stream",
       "stream": "stdout",
       "text": [
        "/title/tt2639254?ref_=hm_hp_i_1\n"
       ]
      }
     ],
     "prompt_number": 20
    },
    {
     "cell_type": "markdown",
     "metadata": {},
     "source": [
      "**Notar** que la lista *paginas* guarda una porci\u00f3n de la url real que nos lleva a las p\u00e1ginas pues el link se completa a\u00f1adiendo la cadena *laliga*, es decir, la url completa para la primer p\u00e9lcula obtenida es... \n"
     ]
    },
    {
     "cell_type": "code",
     "collapsed": false,
     "input": [
      "peliculaLiga = laliga + paginas[0] \n",
      "print(peliculaLiga)                #URL completa"
     ],
     "language": "python",
     "metadata": {},
     "outputs": [
      {
       "output_type": "stream",
       "stream": "stdout",
       "text": [
        "http://www.imdb.com//title/tt2639254?ref_=hm_hp_i_1\n"
       ]
      }
     ],
     "prompt_number": 21
    },
    {
     "cell_type": "markdown",
     "metadata": {},
     "source": [
      "##OBSERVEMOS EL C\u00d3DIGO FUENTE DE NUEVO"
     ]
    },
    {
     "cell_type": "markdown",
     "metadata": {},
     "source": [
      "Hasta aqu\u00ed, podemos conseguir todos los links colgados en la barra derecha nombrada *Opening this week*, pues basta ir cambiando el \u00edndice de nuestra lista *paginas*  para ir generando las URL completas a cada pel\u00edcula."
     ]
    },
    {
     "cell_type": "markdown",
     "metadata": {},
     "source": [
      "Buscando a tr\u00e1ves del c\u00f3digo se llega a que dentro de"
     ]
    },
    {
     "cell_type": "raw",
     "metadata": {},
     "source": [
      "<td id=\"overview-top\">"
     ]
    },
    {
     "cell_type": "markdown",
     "metadata": {},
     "source": [
      "estan todos los detalles y puntuaciones de la pel\u00edcula. Entonces ahora generamos otra sopa "
     ]
    },
    {
     "cell_type": "code",
     "collapsed": false,
     "input": [
      "sopita = crearSopa(peliculaLiga)       # peliculaLiga = http://www.imdb.com//title/tt2639254?ref_=hm_hp_i_1\n",
      "info = sopita.find_all(\"td\",{\"id\":\"overview-top\"})\n",
      "for link in info: \n",
      "    link = str(link.renderContents())"
     ],
     "language": "python",
     "metadata": {},
     "outputs": [],
     "prompt_number": 22
    },
    {
     "cell_type": "code",
     "collapsed": false,
     "input": [
      "def hacerCadena(que):\n",
      "    return str(que.renderContents())\n",
      "\n",
      "def getTitulo(sopa):\n",
      "    x = sopa.find_all(\"span\",{\"itemprop\":\"name\"})\n",
      "    print(\"Titulo: \\n\"+hacerCadena(x[0]))\n",
      "\n",
      "def getSinopsis(sopa):\n",
      "    x = sopa.find_all(\"p\",{\"itemprop\":\"description\"})\n",
      "    print \"Sinopsis: \"+hacerCadena(x[0])\n",
      "\n",
      "def getDirector(sopa):\n",
      "    tag = sopa.find_all(\"div\",{\"itemprop\":\"director\"})\n",
      "    tag2 = tag[0].contents  \n",
      "    tag3 = tag2[3].contents\n",
      "    print \"Director: \\n\"+hacerCadena(tag3[0])"
     ],
     "language": "python",
     "metadata": {},
     "outputs": []
    },
    {
     "cell_type": "code",
     "collapsed": false,
     "input": [
      "getTitulo(sopita)\n",
      "getSinopsis(sopita)\n",
      "getDirector(sopita)"
     ],
     "language": "python",
     "metadata": {},
     "outputs": []
    },
    {
     "cell_type": "code",
     "collapsed": false,
     "input": [],
     "language": "python",
     "metadata": {},
     "outputs": []
    }
   ],
   "metadata": {}
  }
 ]
}